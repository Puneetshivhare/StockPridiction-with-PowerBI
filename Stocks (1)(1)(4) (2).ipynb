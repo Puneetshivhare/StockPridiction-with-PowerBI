{
  "nbformat": 4,
  "nbformat_minor": 0,
  "metadata": {
    "colab": {
      "provenance": []
    },
    "kernelspec": {
      "name": "python3",
      "display_name": "Python 3"
    },
    "language_info": {
      "name": "python"
    }
  },
  "cells": [
    {
      "cell_type": "code",
      "execution_count": null,
      "metadata": {
        "id": "KJE4fiIg2r9U"
      },
      "outputs": [],
      "source": [
        "import pandas_datareader as pdr\n",
        "key = \"eec1602c1b42c0fe5f798172bc32a64332548ea0\""
      ]
    },
    {
      "cell_type": "code",
      "source": [
        "df = pdr.get_data_tiingo(\"RELI\" ,. api_key = key)"
      ],
      "metadata": {
        "colab": {
          "base_uri": "https://localhost:8080/"
        },
        "id": "98n83Qw22-OI",
        "outputId": "ffed7e55-b21e-4f01-d4c0-82c5b9d02924"
      },
      "execution_count": null,
      "outputs": [
        {
          "output_type": "stream",
          "name": "stderr",
          "text": [
            "/usr/local/lib/python3.9/dist-packages/pandas_datareader/tiingo.py:234: FutureWarning: In a future version of pandas all arguments of concat except for the argument 'objs' will be keyword-only.\n",
            "  return pd.concat(dfs, self._concat_axis)\n"
          ]
        }
      ]
    },
    {
      "cell_type": "code",
      "source": [
        "df.to_csv(\"RELI.csv\")"
      ],
      "metadata": {
        "id": "jJN52Fti3mTa"
      },
      "execution_count": null,
      "outputs": []
    },
    {
      "cell_type": "code",
      "source": [
        "import pandas as pd\n"
      ],
      "metadata": {
        "id": "C_sDnmGU31nv"
      },
      "execution_count": null,
      "outputs": []
    },
    {
      "cell_type": "code",
      "source": [
        "df = pd.read_csv('RELI.csv')"
      ],
      "metadata": {
        "id": "mNRqhdbt386h"
      },
      "execution_count": null,
      "outputs": []
    },
    {
      "cell_type": "code",
      "source": [
        "df2 = df.reset_index()['close']"
      ],
      "metadata": {
        "id": "e5GkUljE4Ajz"
      },
      "execution_count": null,
      "outputs": []
    },
    {
      "cell_type": "code",
      "source": [
        "df2[1228:]"
      ],
      "metadata": {
        "colab": {
          "base_uri": "https://localhost:8080/"
        },
        "id": "dYz6Tpff4Lli",
        "outputId": "b4b5db31-bb96-4531-d7a9-24a994a293ea"
      },
      "execution_count": null,
      "outputs": [
        {
          "output_type": "execute_result",
          "data": {
            "text/plain": [
              "1228    4.62\n",
              "1229    4.25\n",
              "1230    3.55\n",
              "1231    3.88\n",
              "1232    4.27\n",
              "1233    3.88\n",
              "1234    2.90\n",
              "1235    2.58\n",
              "1236    2.74\n",
              "Name: close, dtype: float64"
            ]
          },
          "metadata": {},
          "execution_count": 9
        }
      ]
    },
    {
      "cell_type": "code",
      "source": [
        "df.head()"
      ],
      "metadata": {
        "id": "y8NV87zp4ODq"
      },
      "execution_count": null,
      "outputs": []
    },
    {
      "cell_type": "code",
      "source": [
        "df.shape"
      ],
      "metadata": {
        "colab": {
          "base_uri": "https://localhost:8080/"
        },
        "id": "mwh7Boax4QfM",
        "outputId": "9bb8ecec-3b5c-4db9-a778-8eb508a52463"
      },
      "execution_count": null,
      "outputs": [
        {
          "output_type": "execute_result",
          "data": {
            "text/plain": [
              "(1237, 14)"
            ]
          },
          "metadata": {},
          "execution_count": 11
        }
      ]
    },
    {
      "cell_type": "code",
      "source": [
        "df.tail(10)"
      ],
      "metadata": {
        "colab": {
          "base_uri": "https://localhost:8080/",
          "height": 600
        },
        "id": "ZCNSTPt44TEe",
        "outputId": "83e8f113-ea1c-4e84-dbe3-4f66bec58be9"
      },
      "execution_count": null,
      "outputs": [
        {
          "output_type": "execute_result",
          "data": {
            "text/plain": [
              "     symbol                       date  close    high    low  open  volume  \\\n",
              "1227   RELI  2023-03-08 00:00:00+00:00   5.04  5.1600  4.910  5.16   17378   \n",
              "1228   RELI  2023-03-09 00:00:00+00:00   4.62  5.0608  4.620  4.93   33148   \n",
              "1229   RELI  2023-03-10 00:00:00+00:00   4.25  4.8200  4.210  4.61   31533   \n",
              "1230   RELI  2023-03-13 00:00:00+00:00   3.55  4.2300  3.540  4.14   40335   \n",
              "1231   RELI  2023-03-14 00:00:00+00:00   3.88  4.0000  3.400  3.68   77352   \n",
              "1232   RELI  2023-03-15 00:00:00+00:00   4.27  4.3000  3.760  3.76  469095   \n",
              "1233   RELI  2023-03-16 00:00:00+00:00   3.88  4.2000  3.640  4.10  299485   \n",
              "1234   RELI  2023-03-17 00:00:00+00:00   2.90  3.8000  2.900  3.80  198960   \n",
              "1235   RELI  2023-03-20 00:00:00+00:00   2.58  2.9811  2.545  2.93   87798   \n",
              "1236   RELI  2023-03-21 00:00:00+00:00   2.74  2.7500  2.500  2.59  193224   \n",
              "\n",
              "      adjClose  adjHigh  adjLow  adjOpen  adjVolume  divCash  splitFactor  \n",
              "1227      5.04   5.1600   4.910     5.16      17378      0.0          1.0  \n",
              "1228      4.62   5.0608   4.620     4.93      33148      0.0          1.0  \n",
              "1229      4.25   4.8200   4.210     4.61      31533      0.0          1.0  \n",
              "1230      3.55   4.2300   3.540     4.14      40335      0.0          1.0  \n",
              "1231      3.88   4.0000   3.400     3.68      77352      0.0          1.0  \n",
              "1232      4.27   4.3000   3.760     3.76     469095      0.0          1.0  \n",
              "1233      3.88   4.2000   3.640     4.10     299485      0.0          1.0  \n",
              "1234      2.90   3.8000   2.900     3.80     198960      0.0          1.0  \n",
              "1235      2.58   2.9811   2.545     2.93      87798      0.0          1.0  \n",
              "1236      2.74   2.7500   2.500     2.59     193224      0.0          1.0  "
            ],
            "text/html": [
              "\n",
              "  <div id=\"df-01804a8b-5c82-4e9d-ad65-b1dcc88d7114\">\n",
              "    <div class=\"colab-df-container\">\n",
              "      <div>\n",
              "<style scoped>\n",
              "    .dataframe tbody tr th:only-of-type {\n",
              "        vertical-align: middle;\n",
              "    }\n",
              "\n",
              "    .dataframe tbody tr th {\n",
              "        vertical-align: top;\n",
              "    }\n",
              "\n",
              "    .dataframe thead th {\n",
              "        text-align: right;\n",
              "    }\n",
              "</style>\n",
              "<table border=\"1\" class=\"dataframe\">\n",
              "  <thead>\n",
              "    <tr style=\"text-align: right;\">\n",
              "      <th></th>\n",
              "      <th>symbol</th>\n",
              "      <th>date</th>\n",
              "      <th>close</th>\n",
              "      <th>high</th>\n",
              "      <th>low</th>\n",
              "      <th>open</th>\n",
              "      <th>volume</th>\n",
              "      <th>adjClose</th>\n",
              "      <th>adjHigh</th>\n",
              "      <th>adjLow</th>\n",
              "      <th>adjOpen</th>\n",
              "      <th>adjVolume</th>\n",
              "      <th>divCash</th>\n",
              "      <th>splitFactor</th>\n",
              "    </tr>\n",
              "  </thead>\n",
              "  <tbody>\n",
              "    <tr>\n",
              "      <th>1227</th>\n",
              "      <td>RELI</td>\n",
              "      <td>2023-03-08 00:00:00+00:00</td>\n",
              "      <td>5.04</td>\n",
              "      <td>5.1600</td>\n",
              "      <td>4.910</td>\n",
              "      <td>5.16</td>\n",
              "      <td>17378</td>\n",
              "      <td>5.04</td>\n",
              "      <td>5.1600</td>\n",
              "      <td>4.910</td>\n",
              "      <td>5.16</td>\n",
              "      <td>17378</td>\n",
              "      <td>0.0</td>\n",
              "      <td>1.0</td>\n",
              "    </tr>\n",
              "    <tr>\n",
              "      <th>1228</th>\n",
              "      <td>RELI</td>\n",
              "      <td>2023-03-09 00:00:00+00:00</td>\n",
              "      <td>4.62</td>\n",
              "      <td>5.0608</td>\n",
              "      <td>4.620</td>\n",
              "      <td>4.93</td>\n",
              "      <td>33148</td>\n",
              "      <td>4.62</td>\n",
              "      <td>5.0608</td>\n",
              "      <td>4.620</td>\n",
              "      <td>4.93</td>\n",
              "      <td>33148</td>\n",
              "      <td>0.0</td>\n",
              "      <td>1.0</td>\n",
              "    </tr>\n",
              "    <tr>\n",
              "      <th>1229</th>\n",
              "      <td>RELI</td>\n",
              "      <td>2023-03-10 00:00:00+00:00</td>\n",
              "      <td>4.25</td>\n",
              "      <td>4.8200</td>\n",
              "      <td>4.210</td>\n",
              "      <td>4.61</td>\n",
              "      <td>31533</td>\n",
              "      <td>4.25</td>\n",
              "      <td>4.8200</td>\n",
              "      <td>4.210</td>\n",
              "      <td>4.61</td>\n",
              "      <td>31533</td>\n",
              "      <td>0.0</td>\n",
              "      <td>1.0</td>\n",
              "    </tr>\n",
              "    <tr>\n",
              "      <th>1230</th>\n",
              "      <td>RELI</td>\n",
              "      <td>2023-03-13 00:00:00+00:00</td>\n",
              "      <td>3.55</td>\n",
              "      <td>4.2300</td>\n",
              "      <td>3.540</td>\n",
              "      <td>4.14</td>\n",
              "      <td>40335</td>\n",
              "      <td>3.55</td>\n",
              "      <td>4.2300</td>\n",
              "      <td>3.540</td>\n",
              "      <td>4.14</td>\n",
              "      <td>40335</td>\n",
              "      <td>0.0</td>\n",
              "      <td>1.0</td>\n",
              "    </tr>\n",
              "    <tr>\n",
              "      <th>1231</th>\n",
              "      <td>RELI</td>\n",
              "      <td>2023-03-14 00:00:00+00:00</td>\n",
              "      <td>3.88</td>\n",
              "      <td>4.0000</td>\n",
              "      <td>3.400</td>\n",
              "      <td>3.68</td>\n",
              "      <td>77352</td>\n",
              "      <td>3.88</td>\n",
              "      <td>4.0000</td>\n",
              "      <td>3.400</td>\n",
              "      <td>3.68</td>\n",
              "      <td>77352</td>\n",
              "      <td>0.0</td>\n",
              "      <td>1.0</td>\n",
              "    </tr>\n",
              "    <tr>\n",
              "      <th>1232</th>\n",
              "      <td>RELI</td>\n",
              "      <td>2023-03-15 00:00:00+00:00</td>\n",
              "      <td>4.27</td>\n",
              "      <td>4.3000</td>\n",
              "      <td>3.760</td>\n",
              "      <td>3.76</td>\n",
              "      <td>469095</td>\n",
              "      <td>4.27</td>\n",
              "      <td>4.3000</td>\n",
              "      <td>3.760</td>\n",
              "      <td>3.76</td>\n",
              "      <td>469095</td>\n",
              "      <td>0.0</td>\n",
              "      <td>1.0</td>\n",
              "    </tr>\n",
              "    <tr>\n",
              "      <th>1233</th>\n",
              "      <td>RELI</td>\n",
              "      <td>2023-03-16 00:00:00+00:00</td>\n",
              "      <td>3.88</td>\n",
              "      <td>4.2000</td>\n",
              "      <td>3.640</td>\n",
              "      <td>4.10</td>\n",
              "      <td>299485</td>\n",
              "      <td>3.88</td>\n",
              "      <td>4.2000</td>\n",
              "      <td>3.640</td>\n",
              "      <td>4.10</td>\n",
              "      <td>299485</td>\n",
              "      <td>0.0</td>\n",
              "      <td>1.0</td>\n",
              "    </tr>\n",
              "    <tr>\n",
              "      <th>1234</th>\n",
              "      <td>RELI</td>\n",
              "      <td>2023-03-17 00:00:00+00:00</td>\n",
              "      <td>2.90</td>\n",
              "      <td>3.8000</td>\n",
              "      <td>2.900</td>\n",
              "      <td>3.80</td>\n",
              "      <td>198960</td>\n",
              "      <td>2.90</td>\n",
              "      <td>3.8000</td>\n",
              "      <td>2.900</td>\n",
              "      <td>3.80</td>\n",
              "      <td>198960</td>\n",
              "      <td>0.0</td>\n",
              "      <td>1.0</td>\n",
              "    </tr>\n",
              "    <tr>\n",
              "      <th>1235</th>\n",
              "      <td>RELI</td>\n",
              "      <td>2023-03-20 00:00:00+00:00</td>\n",
              "      <td>2.58</td>\n",
              "      <td>2.9811</td>\n",
              "      <td>2.545</td>\n",
              "      <td>2.93</td>\n",
              "      <td>87798</td>\n",
              "      <td>2.58</td>\n",
              "      <td>2.9811</td>\n",
              "      <td>2.545</td>\n",
              "      <td>2.93</td>\n",
              "      <td>87798</td>\n",
              "      <td>0.0</td>\n",
              "      <td>1.0</td>\n",
              "    </tr>\n",
              "    <tr>\n",
              "      <th>1236</th>\n",
              "      <td>RELI</td>\n",
              "      <td>2023-03-21 00:00:00+00:00</td>\n",
              "      <td>2.74</td>\n",
              "      <td>2.7500</td>\n",
              "      <td>2.500</td>\n",
              "      <td>2.59</td>\n",
              "      <td>193224</td>\n",
              "      <td>2.74</td>\n",
              "      <td>2.7500</td>\n",
              "      <td>2.500</td>\n",
              "      <td>2.59</td>\n",
              "      <td>193224</td>\n",
              "      <td>0.0</td>\n",
              "      <td>1.0</td>\n",
              "    </tr>\n",
              "  </tbody>\n",
              "</table>\n",
              "</div>\n",
              "      <button class=\"colab-df-convert\" onclick=\"convertToInteractive('df-01804a8b-5c82-4e9d-ad65-b1dcc88d7114')\"\n",
              "              title=\"Convert this dataframe to an interactive table.\"\n",
              "              style=\"display:none;\">\n",
              "        \n",
              "  <svg xmlns=\"http://www.w3.org/2000/svg\" height=\"24px\"viewBox=\"0 0 24 24\"\n",
              "       width=\"24px\">\n",
              "    <path d=\"M0 0h24v24H0V0z\" fill=\"none\"/>\n",
              "    <path d=\"M18.56 5.44l.94 2.06.94-2.06 2.06-.94-2.06-.94-.94-2.06-.94 2.06-2.06.94zm-11 1L8.5 8.5l.94-2.06 2.06-.94-2.06-.94L8.5 2.5l-.94 2.06-2.06.94zm10 10l.94 2.06.94-2.06 2.06-.94-2.06-.94-.94-2.06-.94 2.06-2.06.94z\"/><path d=\"M17.41 7.96l-1.37-1.37c-.4-.4-.92-.59-1.43-.59-.52 0-1.04.2-1.43.59L10.3 9.45l-7.72 7.72c-.78.78-.78 2.05 0 2.83L4 21.41c.39.39.9.59 1.41.59.51 0 1.02-.2 1.41-.59l7.78-7.78 2.81-2.81c.8-.78.8-2.07 0-2.86zM5.41 20L4 18.59l7.72-7.72 1.47 1.35L5.41 20z\"/>\n",
              "  </svg>\n",
              "      </button>\n",
              "      \n",
              "  <style>\n",
              "    .colab-df-container {\n",
              "      display:flex;\n",
              "      flex-wrap:wrap;\n",
              "      gap: 12px;\n",
              "    }\n",
              "\n",
              "    .colab-df-convert {\n",
              "      background-color: #E8F0FE;\n",
              "      border: none;\n",
              "      border-radius: 50%;\n",
              "      cursor: pointer;\n",
              "      display: none;\n",
              "      fill: #1967D2;\n",
              "      height: 32px;\n",
              "      padding: 0 0 0 0;\n",
              "      width: 32px;\n",
              "    }\n",
              "\n",
              "    .colab-df-convert:hover {\n",
              "      background-color: #E2EBFA;\n",
              "      box-shadow: 0px 1px 2px rgba(60, 64, 67, 0.3), 0px 1px 3px 1px rgba(60, 64, 67, 0.15);\n",
              "      fill: #174EA6;\n",
              "    }\n",
              "\n",
              "    [theme=dark] .colab-df-convert {\n",
              "      background-color: #3B4455;\n",
              "      fill: #D2E3FC;\n",
              "    }\n",
              "\n",
              "    [theme=dark] .colab-df-convert:hover {\n",
              "      background-color: #434B5C;\n",
              "      box-shadow: 0px 1px 3px 1px rgba(0, 0, 0, 0.15);\n",
              "      filter: drop-shadow(0px 1px 2px rgba(0, 0, 0, 0.3));\n",
              "      fill: #FFFFFF;\n",
              "    }\n",
              "  </style>\n",
              "\n",
              "      <script>\n",
              "        const buttonEl =\n",
              "          document.querySelector('#df-01804a8b-5c82-4e9d-ad65-b1dcc88d7114 button.colab-df-convert');\n",
              "        buttonEl.style.display =\n",
              "          google.colab.kernel.accessAllowed ? 'block' : 'none';\n",
              "\n",
              "        async function convertToInteractive(key) {\n",
              "          const element = document.querySelector('#df-01804a8b-5c82-4e9d-ad65-b1dcc88d7114');\n",
              "          const dataTable =\n",
              "            await google.colab.kernel.invokeFunction('convertToInteractive',\n",
              "                                                     [key], {});\n",
              "          if (!dataTable) return;\n",
              "\n",
              "          const docLinkHtml = 'Like what you see? Visit the ' +\n",
              "            '<a target=\"_blank\" href=https://colab.research.google.com/notebooks/data_table.ipynb>data table notebook</a>'\n",
              "            + ' to learn more about interactive tables.';\n",
              "          element.innerHTML = '';\n",
              "          dataTable['output_type'] = 'display_data';\n",
              "          await google.colab.output.renderOutput(dataTable, element);\n",
              "          const docLink = document.createElement('div');\n",
              "          docLink.innerHTML = docLinkHtml;\n",
              "          element.appendChild(docLink);\n",
              "        }\n",
              "      </script>\n",
              "    </div>\n",
              "  </div>\n",
              "  "
            ]
          },
          "metadata": {},
          "execution_count": 12
        }
      ]
    },
    {
      "cell_type": "code",
      "source": [
        "df1 = df.reset_index()['close']\n"
      ],
      "metadata": {
        "id": "vPe9-YqJ4ZdT"
      },
      "execution_count": null,
      "outputs": []
    },
    {
      "cell_type": "code",
      "source": [
        "df1.shape"
      ],
      "metadata": {
        "colab": {
          "base_uri": "https://localhost:8080/"
        },
        "id": "viaHPSlG4xkq",
        "outputId": "43f7f42d-d68b-4307-d623-0394f31b54c0"
      },
      "execution_count": null,
      "outputs": [
        {
          "output_type": "execute_result",
          "data": {
            "text/plain": [
              "(1237,)"
            ]
          },
          "metadata": {},
          "execution_count": 14
        }
      ]
    },
    {
      "cell_type": "code",
      "source": [
        "import seaborn as sns\n",
        "import matplotlib.pyplot as plt"
      ],
      "metadata": {
        "id": "tekEwYds45lE"
      },
      "execution_count": null,
      "outputs": []
    },
    {
      "cell_type": "code",
      "source": [
        "plt.plot(df1)"
      ],
      "metadata": {
        "colab": {
          "base_uri": "https://localhost:8080/",
          "height": 282
        },
        "id": "2fzNabps4-Zo",
        "outputId": "8ab83c2f-4fd9-491b-fbfe-071c41cd64b8"
      },
      "execution_count": null,
      "outputs": [
        {
          "output_type": "execute_result",
          "data": {
            "text/plain": [
              "[<matplotlib.lines.Line2D at 0x7efc4f7f6a90>]"
            ]
          },
          "metadata": {},
          "execution_count": 16
        },
        {
          "output_type": "display_data",
          "data": {
            "text/plain": [
              "<Figure size 432x288 with 1 Axes>"
            ],
            "image/png": "[encoded data removed]"
          },
          "metadata": {
            "needs_background": "light"
          }
        }
      ]
    },
    {
      "cell_type": "code",
      "source": [
        "df1\n"
      ],
      "metadata": {
        "colab": {
          "base_uri": "https://localhost:8080/"
        },
        "id": "dhmJd8GS5Rhx",
        "outputId": "09a3a68f-7184-476e-ae69-a369b10e273c"
      },
      "execution_count": null,
      "outputs": [
        {
          "output_type": "execute_result",
          "data": {
            "text/plain": [
              "0       0.00500\n",
              "1       0.00400\n",
              "2       0.00580\n",
              "3       0.00541\n",
              "4       0.00570\n",
              "         ...   \n",
              "1232    4.27000\n",
              "1233    3.88000\n",
              "1234    2.90000\n",
              "1235    2.58000\n",
              "1236    2.74000\n",
              "Name: close, Length: 1237, dtype: float64"
            ]
          },
          "metadata": {},
          "execution_count": 17
        }
      ]
    },
    {
      "cell_type": "code",
      "source": [
        "# lstm are sensitive to scale"
      ],
      "metadata": {
        "id": "ehudTVn-5hDJ"
      },
      "execution_count": null,
      "outputs": []
    },
    {
      "cell_type": "code",
      "source": [
        "import numpy as np\n",
        "from sklearn.preprocessing import MinMaxScaler\n",
        "scaler = MinMaxScaler(feature_range = (0 ,1))\n",
        "df1 = scaler.fit_transform(np.array(df1).reshape( -1, 1))"
      ],
      "metadata": {
        "id": "SWc_BRbE5ySI"
      },
      "execution_count": null,
      "outputs": []
    },
    {
      "cell_type": "code",
      "source": [
        "df1.shape"
      ],
      "metadata": {
        "colab": {
          "base_uri": "https://localhost:8080/"
        },
        "id": "SIahM4eQ6fMr",
        "outputId": "0c8584e7-dece-42b1-f8b8-06eb1be24f82"
      },
      "execution_count": null,
      "outputs": [
        {
          "output_type": "execute_result",
          "data": {
            "text/plain": [
              "(1237, 1)"
            ]
          },
          "metadata": {},
          "execution_count": 20
        }
      ]
    },
    {
      "cell_type": "code",
      "source": [
        "training_size = int(len (df1)*0.65)\n",
        "test_size  = len(df1) - training_size\n",
        "train_data , test_data = df1[0 : training_size  , : ] , df1[training_size : len(df1) , : 1]"
      ],
      "metadata": {
        "id": "Pa-SGWpw6f93"
      },
      "execution_count": null,
      "outputs": []
    },
    {
      "cell_type": "code",
      "source": [
        "training_size ,  test_size"
      ],
      "metadata": {
        "id": "3ue9V0wmA7HS",
        "colab": {
          "base_uri": "https://localhost:8080/"
        },
        "outputId": "2e2ae819-61ec-47a5-e6a7-2fa9efd6bae6"
      },
      "execution_count": null,
      "outputs": [
        {
          "output_type": "execute_result",
          "data": {
            "text/plain": [
              "(804, 433)"
            ]
          },
          "metadata": {},
          "execution_count": 22
        }
      ]
    },
    {
      "cell_type": "code",
      "source": [
        "import numpy as np\n",
        "#converting an array of values into a dataset matrix\n",
        "def create_dataset(dataset , time_step = 1):\n",
        "  dataX , dataY = [] , []\n",
        "  for i in range(len(dataset) - time_step - 1):\n",
        "    a = dataset[i : (i  + time_step) , 0]\n",
        "    dataX.append(a)\n",
        "    dataY.append(dataset[i + time_step , 0])\n",
        "  return np.array(dataX) , np.array(dataY)\n"
      ],
      "metadata": {
        "id": "Zdp71xbTn6C-"
      },
      "execution_count": null,
      "outputs": []
    },
    {
      "cell_type": "code",
      "source": [
        "time_step = 100\n",
        "X_train , y_train = create_dataset(train_data , time_step)\n",
        "X_test , ytest = create_dataset(test_data , time_step)"
      ],
      "metadata": {
        "id": "sVzHyJotrZyG"
      },
      "execution_count": null,
      "outputs": []
    },
    {
      "cell_type": "code",
      "source": [
        "print(X_train)"
      ],
      "metadata": {
        "colab": {
          "base_uri": "https://localhost:8080/"
        },
        "id": "O2AvwTQhrnPz",
        "outputId": "69cf5c7a-dcd5-4fec-d09c-52ea21bc7f65"
      },
      "execution_count": null,
      "outputs": [
        {
          "output_type": "stream",
          "name": "stdout",
          "text": [
            "[[1.07342207e-04 0.00000000e+00 1.93215973e-04 ... 2.57621297e-04\n",
            "  2.57621297e-04 2.57621297e-04]\n",
            " [0.00000000e+00 1.93215973e-04 1.51352512e-04 ... 2.57621297e-04\n",
            "  2.57621297e-04 3.00558179e-04]\n",
            " [1.93215973e-04 1.51352512e-04 1.82481752e-04 ... 2.57621297e-04\n",
            "  3.00558179e-04 4.50837269e-04]\n",
            " ...\n",
            " [7.29927007e-03 7.19192787e-03 7.03091456e-03 ... 4.16058394e-01\n",
            "  3.84929154e-01 3.99957063e-01]\n",
            " [7.19192787e-03 7.03091456e-03 6.60154573e-03 ... 3.84929154e-01\n",
            "  3.99957063e-01 3.99957063e-01]\n",
            " [7.03091456e-03 6.60154573e-03 9.22069558e-03 ... 3.99957063e-01\n",
            "  3.99957063e-01 4.02103907e-01]]\n"
          ]
        }
      ]
    },
    {
      "cell_type": "code",
      "source": [
        "print(X_train.shape) , print(y_train.shape )"
      ],
      "metadata": {
        "colab": {
          "base_uri": "https://localhost:8080/"
        },
        "id": "NeYsb4B1r50O",
        "outputId": "a1c8f737-bd9c-4d98-abac-ac9e666a7ad1"
      },
      "execution_count": null,
      "outputs": [
        {
          "output_type": "stream",
          "name": "stdout",
          "text": [
            "(703, 100)\n",
            "(703,)\n"
          ]
        },
        {
          "output_type": "execute_result",
          "data": {
            "text/plain": [
              "(None, None)"
            ]
          },
          "metadata": {},
          "execution_count": 26
        }
      ]
    },
    {
      "cell_type": "code",
      "source": [
        "print(X_test.shape) , print(ytest.shape)"
      ],
      "metadata": {
        "colab": {
          "base_uri": "https://localhost:8080/"
        },
        "id": "DzqxKEQKsLao",
        "outputId": "9e049b55-eabd-4c85-d9a9-6283b36ed475"
      },
      "execution_count": null,
      "outputs": [
        {
          "output_type": "stream",
          "name": "stdout",
          "text": [
            "(332, 100)\n",
            "(332,)\n"
          ]
        },
        {
          "output_type": "execute_result",
          "data": {
            "text/plain": [
              "(None, None)"
            ]
          },
          "metadata": {},
          "execution_count": 27
        }
      ]
    },
    {
      "cell_type": "code",
      "source": [
        "X_train  = X_train.reshape(X_train.shape[0] , X_train.shape[1] , 1)\n",
        "X_test  = X_test.reshape(X_test.shape[0] ,X_test.shape[1] , 1)"
      ],
      "metadata": {
        "id": "QAiClA14sQmq"
      },
      "execution_count": null,
      "outputs": []
    },
    {
      "cell_type": "code",
      "source": [
        "from tensorflow.keras.models import Sequential\n",
        "from tensorflow.keras.layers import Dense\n",
        "from tensorflow.keras.layers import LSTM"
      ],
      "metadata": {
        "id": "OiNgCchnsw6C"
      },
      "execution_count": null,
      "outputs": []
    },
    {
      "cell_type": "code",
      "source": [
        "model = Sequential()\n",
        "model.add(LSTM(50 , return_sequences = True , input_shape =(100 , 1)))\n",
        "model.add(LSTM(50 , return_sequences=True))\n",
        "model.add(LSTM(50))\n",
        "model.add(Dense(1))\n",
        "model.compile(loss= 'mean_squared_error' , optimizer = 'adam')"
      ],
      "metadata": {
        "id": "tPzWpoSrtDG-"
      },
      "execution_count": null,
      "outputs": []
    },
    {
      "cell_type": "code",
      "source": [
        "model.summary()"
      ],
      "metadata": {
        "colab": {
          "base_uri": "https://localhost:8080/"
        },
        "id": "josMWoo8tqnP",
        "outputId": "03b635e3-32a1-4b3c-e8b9-d24d3463244d"
      },
      "execution_count": null,
      "outputs": [
        {
          "output_type": "stream",
          "name": "stdout",
          "text": [
            "Model: \"sequential\"\n",
            "_________________________________________________________________\n",
            " Layer (type)                Output Shape              Param #   \n",
            "=================================================================\n",
            " lstm (LSTM)                 (None, 100, 50)           10400     \n",
            "                                                                 \n",
            " lstm_1 (LSTM)               (None, 100, 50)           20200     \n",
            "                                                                 \n",
            " lstm_2 (LSTM)               (None, 50)                20200     \n",
            "                                                                 \n",
            " dense (Dense)               (None, 1)                 51        \n",
            "                                                                 \n",
            "=================================================================\n",
            "Total params: 50,851\n",
            "Trainable params: 50,851\n",
            "Non-trainable params: 0\n",
            "_________________________________________________________________\n"
          ]
        }
      ]
    },
    {
      "cell_type": "code",
      "source": [
        "model.fit(X_train ,y_train, validation_data  = (X_test , ytest) , epochs =100 , batch_size = 64 , verbose = 1)"
      ],
      "metadata": {
        "colab": {
          "base_uri": "https://localhost:8080/"
        },
        "id": "YwPbIzKitxor",
        "outputId": "a8c52fc3-40ab-44d4-a29f-928bf8f7c0a6"
      },
      "execution_count": null,
      "outputs": [
        {
          "output_type": "stream",
          "name": "stdout",
          "text": [
            "Epoch 1/100\n",
            "11/11 [==============================] - 17s 335ms/step - loss: 0.0134 - val_loss: 0.0201\n",
            "Epoch 2/100\n",
            "11/11 [==============================] - 3s 316ms/step - loss: 0.0048 - val_loss: 0.0155\n",
            "Epoch 3/100\n",
            "11/11 [==============================] - 2s 214ms/step - loss: 0.0037 - val_loss: 0.0152\n",
            "Epoch 4/100\n",
            "11/11 [==============================] - 2s 211ms/step - loss: 0.0032 - val_loss: 0.0135\n",
            "Epoch 5/100\n",
            "11/11 [==============================] - 2s 213ms/step - loss: 0.0028 - val_loss: 0.0118\n",
            "Epoch 6/100\n",
            "11/11 [==============================] - 2s 222ms/step - loss: 0.0028 - val_loss: 0.0112\n",
            "Epoch 7/100\n",
            "11/11 [==============================] - 3s 320ms/step - loss: 0.0027 - val_loss: 0.0104\n",
            "Epoch 8/100\n",
            "11/11 [==============================] - 2s 208ms/step - loss: 0.0026 - val_loss: 0.0099\n",
            "Epoch 9/100\n",
            "11/11 [==============================] - 2s 214ms/step - loss: 0.0026 - val_loss: 0.0096\n",
            "Epoch 10/100\n",
            "11/11 [==============================] - 2s 194ms/step - loss: 0.0025 - val_loss: 0.0090\n",
            "Epoch 11/100\n",
            "11/11 [==============================] - 2s 210ms/step - loss: 0.0025 - val_loss: 0.0087\n",
            "Epoch 12/100\n",
            "11/11 [==============================] - 3s 320ms/step - loss: 0.0024 - val_loss: 0.0086\n",
            "Epoch 13/100\n",
            "11/11 [==============================] - 3s 237ms/step - loss: 0.0024 - val_loss: 0.0084\n",
            "Epoch 14/100\n",
            "11/11 [==============================] - 2s 211ms/step - loss: 0.0023 - val_loss: 0.0081\n",
            "Epoch 15/100\n",
            "11/11 [==============================] - 2s 218ms/step - loss: 0.0024 - val_loss: 0.0077\n",
            "Epoch 16/100\n",
            "11/11 [==============================] - 2s 215ms/step - loss: 0.0023 - val_loss: 0.0079\n",
            "Epoch 17/100\n",
            "11/11 [==============================] - 4s 339ms/step - loss: 0.0024 - val_loss: 0.0074\n",
            "Epoch 18/100\n",
            "11/11 [==============================] - 2s 223ms/step - loss: 0.0023 - val_loss: 0.0073\n",
            "Epoch 19/100\n",
            "11/11 [==============================] - 2s 226ms/step - loss: 0.0023 - val_loss: 0.0069\n",
            "Epoch 20/100\n",
            "11/11 [==============================] - 3s 247ms/step - loss: 0.0022 - val_loss: 0.0074\n",
            "Epoch 21/100\n",
            "11/11 [==============================] - 3s 266ms/step - loss: 0.0021 - val_loss: 0.0066\n",
            "Epoch 22/100\n",
            "11/11 [==============================] - 3s 253ms/step - loss: 0.0022 - val_loss: 0.0064\n",
            "Epoch 23/100\n",
            "11/11 [==============================] - 2s 225ms/step - loss: 0.0020 - val_loss: 0.0065\n",
            "Epoch 24/100\n",
            "11/11 [==============================] - 2s 222ms/step - loss: 0.0020 - val_loss: 0.0061\n",
            "Epoch 25/100\n",
            "11/11 [==============================] - 2s 219ms/step - loss: 0.0019 - val_loss: 0.0059\n",
            "Epoch 26/100\n",
            "11/11 [==============================] - 3s 289ms/step - loss: 0.0019 - val_loss: 0.0058\n",
            "Epoch 27/100\n",
            "11/11 [==============================] - 3s 237ms/step - loss: 0.0019 - val_loss: 0.0060\n",
            "Epoch 28/100\n",
            "11/11 [==============================] - 2s 226ms/step - loss: 0.0018 - val_loss: 0.0058\n",
            "Epoch 29/100\n",
            "11/11 [==============================] - 2s 231ms/step - loss: 0.0018 - val_loss: 0.0056\n",
            "Epoch 30/100\n",
            "11/11 [==============================] - 2s 217ms/step - loss: 0.0018 - val_loss: 0.0053\n",
            "Epoch 31/100\n",
            "11/11 [==============================] - 5s 447ms/step - loss: 0.0017 - val_loss: 0.0051\n",
            "Epoch 32/100\n",
            "11/11 [==============================] - 3s 241ms/step - loss: 0.0017 - val_loss: 0.0051\n",
            "Epoch 33/100\n",
            "11/11 [==============================] - 2s 223ms/step - loss: 0.0016 - val_loss: 0.0050\n",
            "Epoch 34/100\n",
            "11/11 [==============================] - 2s 229ms/step - loss: 0.0016 - val_loss: 0.0052\n",
            "Epoch 35/100\n",
            "11/11 [==============================] - 3s 288ms/step - loss: 0.0017 - val_loss: 0.0047\n",
            "Epoch 36/100\n",
            "11/11 [==============================] - 3s 240ms/step - loss: 0.0016 - val_loss: 0.0046\n",
            "Epoch 37/100\n",
            "11/11 [==============================] - 2s 221ms/step - loss: 0.0015 - val_loss: 0.0046\n",
            "Epoch 38/100\n",
            "11/11 [==============================] - 2s 219ms/step - loss: 0.0015 - val_loss: 0.0044\n",
            "Epoch 39/100\n",
            "11/11 [==============================] - 2s 207ms/step - loss: 0.0014 - val_loss: 0.0043\n",
            "Epoch 40/100\n",
            "11/11 [==============================] - 3s 288ms/step - loss: 0.0014 - val_loss: 0.0043\n",
            "Epoch 41/100\n",
            "11/11 [==============================] - 3s 251ms/step - loss: 0.0014 - val_loss: 0.0041\n",
            "Epoch 42/100\n",
            "11/11 [==============================] - 2s 213ms/step - loss: 0.0013 - val_loss: 0.0039\n",
            "Epoch 43/100\n",
            "11/11 [==============================] - 2s 223ms/step - loss: 0.0013 - val_loss: 0.0038\n",
            "Epoch 44/100\n",
            "11/11 [==============================] - 3s 253ms/step - loss: 0.0012 - val_loss: 0.0039\n",
            "Epoch 45/100\n",
            "11/11 [==============================] - 3s 304ms/step - loss: 0.0012 - val_loss: 0.0039\n",
            "Epoch 46/100\n",
            "11/11 [==============================] - 3s 233ms/step - loss: 0.0012 - val_loss: 0.0039\n",
            "Epoch 47/100\n",
            "11/11 [==============================] - 2s 218ms/step - loss: 0.0012 - val_loss: 0.0039\n",
            "Epoch 48/100\n",
            "11/11 [==============================] - 2s 219ms/step - loss: 0.0011 - val_loss: 0.0040\n",
            "Epoch 49/100\n",
            "11/11 [==============================] - 2s 226ms/step - loss: 0.0011 - val_loss: 0.0037\n",
            "Epoch 50/100\n",
            "11/11 [==============================] - 4s 334ms/step - loss: 0.0011 - val_loss: 0.0034\n",
            "Epoch 51/100\n",
            "11/11 [==============================] - 3s 235ms/step - loss: 0.0012 - val_loss: 0.0034\n",
            "Epoch 52/100\n",
            "11/11 [==============================] - 2s 222ms/step - loss: 0.0011 - val_loss: 0.0036\n",
            "Epoch 53/100\n",
            "11/11 [==============================] - 3s 233ms/step - loss: 0.0010 - val_loss: 0.0032\n",
            "Epoch 54/100\n",
            "11/11 [==============================] - 3s 272ms/step - loss: 9.8225e-04 - val_loss: 0.0034\n",
            "Epoch 55/100\n",
            "11/11 [==============================] - 3s 291ms/step - loss: 9.7879e-04 - val_loss: 0.0034\n",
            "Epoch 56/100\n",
            "11/11 [==============================] - 2s 220ms/step - loss: 9.9219e-04 - val_loss: 0.0035\n",
            "Epoch 57/100\n",
            "11/11 [==============================] - 2s 213ms/step - loss: 9.7335e-04 - val_loss: 0.0034\n",
            "Epoch 58/100\n",
            "11/11 [==============================] - 2s 224ms/step - loss: 9.5580e-04 - val_loss: 0.0035\n",
            "Epoch 59/100\n",
            "11/11 [==============================] - 3s 313ms/step - loss: 9.5302e-04 - val_loss: 0.0040\n",
            "Epoch 60/100\n",
            "11/11 [==============================] - 3s 240ms/step - loss: 9.0398e-04 - val_loss: 0.0031\n",
            "Epoch 61/100\n",
            "11/11 [==============================] - 3s 230ms/step - loss: 8.7341e-04 - val_loss: 0.0029\n",
            "Epoch 62/100\n",
            "11/11 [==============================] - 3s 228ms/step - loss: 8.7037e-04 - val_loss: 0.0029\n",
            "Epoch 63/100\n",
            "11/11 [==============================] - 2s 222ms/step - loss: 8.5555e-04 - val_loss: 0.0029\n",
            "Epoch 64/100\n",
            "11/11 [==============================] - 3s 321ms/step - loss: 8.4782e-04 - val_loss: 0.0027\n",
            "Epoch 65/100\n",
            "11/11 [==============================] - 2s 225ms/step - loss: 8.1508e-04 - val_loss: 0.0028\n",
            "Epoch 66/100\n",
            "11/11 [==============================] - 2s 210ms/step - loss: 8.0226e-04 - val_loss: 0.0028\n",
            "Epoch 67/100\n",
            "11/11 [==============================] - 2s 226ms/step - loss: 8.0739e-04 - val_loss: 0.0028\n",
            "Epoch 68/100\n",
            "11/11 [==============================] - 3s 247ms/step - loss: 7.7784e-04 - val_loss: 0.0031\n",
            "Epoch 69/100\n",
            "11/11 [==============================] - 3s 289ms/step - loss: 7.9483e-04 - val_loss: 0.0028\n",
            "Epoch 70/100\n",
            "11/11 [==============================] - 2s 226ms/step - loss: 8.1810e-04 - val_loss: 0.0028\n",
            "Epoch 71/100\n",
            "11/11 [==============================] - 2s 222ms/step - loss: 8.1361e-04 - val_loss: 0.0031\n",
            "Epoch 72/100\n",
            "11/11 [==============================] - 2s 215ms/step - loss: 7.6384e-04 - val_loss: 0.0029\n",
            "Epoch 73/100\n",
            "11/11 [==============================] - 3s 306ms/step - loss: 7.4537e-04 - val_loss: 0.0029\n",
            "Epoch 74/100\n",
            "11/11 [==============================] - 3s 239ms/step - loss: 7.5640e-04 - val_loss: 0.0029\n",
            "Epoch 75/100\n",
            "11/11 [==============================] - 2s 217ms/step - loss: 8.0409e-04 - val_loss: 0.0034\n",
            "Epoch 76/100\n",
            "11/11 [==============================] - 2s 215ms/step - loss: 7.4994e-04 - val_loss: 0.0031\n",
            "Epoch 77/100\n",
            "11/11 [==============================] - 2s 219ms/step - loss: 7.2713e-04 - val_loss: 0.0029\n",
            "Epoch 78/100\n",
            "11/11 [==============================] - 3s 304ms/step - loss: 7.0085e-04 - val_loss: 0.0028\n",
            "Epoch 79/100\n",
            "11/11 [==============================] - 3s 225ms/step - loss: 7.0356e-04 - val_loss: 0.0028\n",
            "Epoch 80/100\n",
            "11/11 [==============================] - 2s 226ms/step - loss: 6.7537e-04 - val_loss: 0.0025\n",
            "Epoch 81/100\n",
            "11/11 [==============================] - 2s 219ms/step - loss: 6.7089e-04 - val_loss: 0.0025\n",
            "Epoch 82/100\n",
            "11/11 [==============================] - 3s 248ms/step - loss: 6.6812e-04 - val_loss: 0.0025\n",
            "Epoch 83/100\n",
            "11/11 [==============================] - 4s 342ms/step - loss: 6.5420e-04 - val_loss: 0.0028\n",
            "Epoch 84/100\n",
            "11/11 [==============================] - 2s 230ms/step - loss: 6.6408e-04 - val_loss: 0.0030\n",
            "Epoch 85/100\n",
            "11/11 [==============================] - 3s 243ms/step - loss: 6.7211e-04 - val_loss: 0.0033\n",
            "Epoch 86/100\n",
            "11/11 [==============================] - 3s 243ms/step - loss: 7.0155e-04 - val_loss: 0.0025\n",
            "Epoch 87/100\n",
            "11/11 [==============================] - 3s 316ms/step - loss: 6.8090e-04 - val_loss: 0.0026\n",
            "Epoch 88/100\n",
            "11/11 [==============================] - 3s 250ms/step - loss: 6.6687e-04 - val_loss: 0.0026\n",
            "Epoch 89/100\n",
            "11/11 [==============================] - 2s 225ms/step - loss: 6.8275e-04 - val_loss: 0.0033\n",
            "Epoch 90/100\n",
            "11/11 [==============================] - 2s 227ms/step - loss: 6.9744e-04 - val_loss: 0.0029\n",
            "Epoch 91/100\n",
            "11/11 [==============================] - 2s 226ms/step - loss: 6.6865e-04 - val_loss: 0.0026\n",
            "Epoch 92/100\n",
            "11/11 [==============================] - 3s 325ms/step - loss: 6.4976e-04 - val_loss: 0.0025\n",
            "Epoch 93/100\n",
            "11/11 [==============================] - 2s 225ms/step - loss: 6.4745e-04 - val_loss: 0.0026\n",
            "Epoch 94/100\n",
            "11/11 [==============================] - 2s 226ms/step - loss: 6.4496e-04 - val_loss: 0.0025\n",
            "Epoch 95/100\n",
            "11/11 [==============================] - 3s 251ms/step - loss: 6.7928e-04 - val_loss: 0.0029\n",
            "Epoch 96/100\n",
            "11/11 [==============================] - 3s 250ms/step - loss: 6.7234e-04 - val_loss: 0.0024\n",
            "Epoch 97/100\n",
            "11/11 [==============================] - 3s 296ms/step - loss: 6.6631e-04 - val_loss: 0.0027\n",
            "Epoch 98/100\n",
            "11/11 [==============================] - 3s 233ms/step - loss: 6.6225e-04 - val_loss: 0.0027\n",
            "Epoch 99/100\n",
            "11/11 [==============================] - 2s 224ms/step - loss: 6.5224e-04 - val_loss: 0.0025\n",
            "Epoch 100/100\n",
            "11/11 [==============================] - 2s 221ms/step - loss: 6.6144e-04 - val_loss: 0.0026\n"
          ]
        },
        {
          "output_type": "execute_result",
          "data": {
            "text/plain": [
              "<keras.callbacks.History at 0x7efbf5bb4640>"
            ]
          },
          "metadata": {},
          "execution_count": 32
        }
      ]
    },
    {
      "cell_type": "code",
      "source": [
        "import tensorflow as tf"
      ],
      "metadata": {
        "id": "ZjwR5GI7uHMm"
      },
      "execution_count": null,
      "outputs": []
    },
    {
      "cell_type": "code",
      "source": [
        "tf.__version__"
      ],
      "metadata": {
        "colab": {
          "base_uri": "https://localhost:8080/",
          "height": 35
        },
        "id": "mbSxd0z4xXuP",
        "outputId": "3abfcd4a-2e8d-492c-8652-7306a8808dfc"
      },
      "execution_count": null,
      "outputs": [
        {
          "output_type": "execute_result",
          "data": {
            "text/plain": [
              "'2.11.0'"
            ],
            "application/vnd.google.colaboratory.intrinsic+json": {
              "type": "string"
            }
          },
          "metadata": {},
          "execution_count": 34
        }
      ]
    },
    {
      "cell_type": "code",
      "source": [
        "# prediction and performance metrics\n",
        "train_predict  = model.predict(X_train)\n",
        "test_predict = model.predict(X_test)"
      ],
      "metadata": {
        "colab": {
          "base_uri": "https://localhost:8080/"
        },
        "id": "d0BL0H0_xZaC",
        "outputId": "edcd3f8b-72c8-4be2-8852-1f937bcd1fc1"
      },
      "execution_count": null,
      "outputs": [
        {
          "output_type": "stream",
          "name": "stdout",
          "text": [
            "22/22 [==============================] - 2s 44ms/step\n",
            "11/11 [==============================] - 0s 42ms/step\n"
          ]
        }
      ]
    },
    {
      "cell_type": "code",
      "source": [
        "train_predict = scaler.inverse_transform(train_predict)\n",
        "test_predict = scaler.inverse_transform(test_predict)"
      ],
      "metadata": {
        "id": "BG0kuaogyoeT"
      },
      "execution_count": null,
      "outputs": []
    },
    {
      "cell_type": "code",
      "source": [
        "import math\n",
        "from sklearn.metrics import mean_squared_error\n",
        "math.sqrt(mean_squared_error(y_train , train_predict))"
      ],
      "metadata": {
        "colab": {
          "base_uri": "https://localhost:8080/"
        },
        "id": "GDGiGBSv1jEB",
        "outputId": "b397b72f-a4c7-42b4-f58d-fa6e5ab8a80c"
      },
      "execution_count": null,
      "outputs": [
        {
          "output_type": "execute_result",
          "data": {
            "text/plain": [
              "1.3784235649506023"
            ]
          },
          "metadata": {},
          "execution_count": 37
        }
      ]
    },
    {
      "cell_type": "code",
      "source": [
        "math.sqrt(mean_squared_error(ytest , test_predict))"
      ],
      "metadata": {
        "colab": {
          "base_uri": "https://localhost:8080/"
        },
        "id": "RDlQUFz61xc5",
        "outputId": "9eba564d-6657-433e-8d67-6eff6c9eb7c3"
      },
      "execution_count": null,
      "outputs": [
        {
          "output_type": "execute_result",
          "data": {
            "text/plain": [
              "2.804383487139894"
            ]
          },
          "metadata": {},
          "execution_count": 38
        }
      ]
    },
    {
      "cell_type": "code",
      "source": [
        "import numpy"
      ],
      "metadata": {
        "id": "znBOjK1c27NM"
      },
      "execution_count": null,
      "outputs": []
    },
    {
      "cell_type": "code",
      "source": [
        "look_back = 100\n",
        "trainPredictPlot = numpy.empty_like(df1)\n",
        "trainPredictPlot[ : , :] = np.nan\n",
        "trainPredictPlot[look_back : len(train_predict) + look_back , : ] = train_predict\n",
        "testPredictPlot = numpy.empty_like(df1)\n",
        "testPredictPlot[:  , :]= numpy.nan\n",
        "testPredictPlot[len(train_predict) + (look_back * 2) + 1 : len(df1) -1 , : ]= test_predict\n",
        "plt.plot(scaler.inverse_transform(df1))\n",
        "plt.plot(trainPredictPlot)\n",
        "plt.plot(testPredictPlot)\n",
        "plt.show()\n"
      ],
      "metadata": {
        "colab": {
          "base_uri": "https://localhost:8080/",
          "height": 265
        },
        "id": "v_YFM9JV194v",
        "outputId": "f69e436b-f531-4d1b-ae4b-dabdacff6060"
      },
      "execution_count": null,
      "outputs": [
        {
          "output_type": "display_data",
          "data": {
            "text/plain": [
              "<Figure size 432x288 with 1 Axes>"
            ],
            "image/png": "[encoded data removed]"
          },
          "metadata": {
            "needs_background": "light"
          }
        }
      ]
    },
    {
      "cell_type": "code",
      "source": [
        "x_input = test_data[341 : ].reshape(1 , -1)\n",
        "x_input.shape"
      ],
      "metadata": {
        "colab": {
          "base_uri": "https://localhost:8080/"
        },
        "id": "Ourt1MTy2Pay",
        "outputId": "751173da-2511-40f0-97ae-b6f09e3ceb50"
      },
      "execution_count": null,
      "outputs": [
        {
          "output_type": "execute_result",
          "data": {
            "text/plain": [
              "(1, 92)"
            ]
          },
          "metadata": {},
          "execution_count": 41
        }
      ]
    },
    {
      "cell_type": "code",
      "source": [
        "x_input = test_data[341 : ].reshape(1 , -1)"
      ],
      "metadata": {
        "id": "P-06XVby4gCB"
      },
      "execution_count": null,
      "outputs": []
    },
    {
      "cell_type": "code",
      "source": [
        "x_input.shape"
      ],
      "metadata": {
        "colab": {
          "base_uri": "https://localhost:8080/"
        },
        "id": "KK2tyADN4nSj",
        "outputId": "844f9a20-8b85-4632-fbb9-084f4d2fd6fb"
      },
      "execution_count": null,
      "outputs": [
        {
          "output_type": "execute_result",
          "data": {
            "text/plain": [
              "(1, 92)"
            ]
          },
          "metadata": {},
          "execution_count": 43
        }
      ]
    },
    {
      "cell_type": "code",
      "source": [
        "temp_input = list(x_input)\n",
        "temp_input = temp_input[0].tolist()"
      ],
      "metadata": {
        "id": "uMPKyCgp4pBt"
      },
      "execution_count": null,
      "outputs": []
    },
    {
      "cell_type": "code",
      "source": [
        "from numpy import array\n",
        "\n",
        "lst_output = []\n",
        "n_steps = 100\n",
        "i = 0\n",
        "while(i < 30):\n",
        "  if(len(temp_input) > 100):\n",
        "\n",
        "    x_input = np.array(temp_input[1 : ])\n",
        "    print(\"{} day input {}\".format(i , x_input))\n",
        "    x_input  = x_input.reshape(1 , -1)\n",
        "    x_input = x_input.reshape((1 , n_steps , 1))\n",
        "    # x_input  = x_input.reshape((1 , x_input))\n",
        "    yhat = model.predict(x_input  , verbose = 0 )\n",
        "    print(\"{} day output {}\".format(i , yhat))\n",
        "    temp_input.extend(yhat[0].tolist())\n",
        "    temp_input  = temp_input[1:]\n",
        "    lst_output.extend(yhat.tolist())\n",
        "    i = i +1\n",
        "  else:\n",
        "\n",
        "    x_input = x_input.reshape(1 , n_steps ,1 )\n",
        "    yhat = model.predict(x_input , verbose = 0 )\n",
        "    print(yhat[0])\n",
        "    temp_input.extend(yhat[0].tolist())\n",
        "    print(len(temp_input))\n",
        "    lst_output.extend(yhat.tolist())\n",
        "    i= i + 1\n",
        "\n",
        "print(lst_output)\n",
        "\n",
        "\n",
        "\n"
      ],
      "metadata": {
        "colab": {
          "base_uri": "https://localhost:8080/"
        },
        "id": "YR78e_sC42ap",
        "outputId": "125dd2d7-607a-480a-e896-555523aaeec5"
      },
      "execution_count": null,
      "outputs": [
        {
          "output_type": "stream",
          "name": "stdout",
          "text": [
            "0 day input [0.06343924 0.06322456 0.06557535 0.06955775 0.07481752 0.06987978\n",
            " 0.06883856 0.06613353 0.0677222  0.06303134 0.06075569 0.06166584\n",
            " 0.06186131 0.06290253 0.06235509 0.06182911 0.06469515 0.07030915\n",
            " 0.07121082 0.06866681 0.07256333 0.07245599 0.07041649 0.0664985\n",
            " 0.06738944 0.06624088 0.06543581 0.06397596 0.06182911 0.06182911\n",
            " 0.0612924  0.06504938 0.0661228  0.06394375 0.06134607 0.06182911\n",
            " 0.06053027 0.059693   0.05967153 0.05873766 0.05539931 0.05703091\n",
            " 0.05831902 0.05860884 0.0596286  0.06613353 0.06507085 0.06558609\n",
            " 0.0661228  0.06545728 0.07084586 0.07213396 0.06955775 0.06934307\n",
            " 0.0709532  0.06742164 0.06720696 0.06504938 0.06558609 0.07141477\n",
            " 0.07138257 0.07150064 0.06875268 0.06311722 0.05807213 0.05878059\n",
            " 0.06182911 0.06108845 0.06045513 0.05849077 0.05413267 0.04491198\n",
            " 0.55184629 0.5266316  0.56633748 0.58565908 0.57814513 0.54594246\n",
            " 0.58137613 0.552383   0.54594246 0.54057535 0.49549163 0.45577501\n",
            " 0.38063547 0.41605839 0.45792185 0.41605839 0.31086303 0.27651353\n",
            " 0.29368828 0.32057583 0.32057583 0.32057583 0.32057583 0.32057583\n",
            " 0.32057583 0.32057583 0.32057583 0.32057583]\n",
            "0 day output [[0.32219627]]\n",
            "1 day input [0.06322456 0.06557535 0.06955775 0.07481752 0.06987978 0.06883856\n",
            " 0.06613353 0.0677222  0.06303134 0.06075569 0.06166584 0.06186131\n",
            " 0.06290253 0.06235509 0.06182911 0.06469515 0.07030915 0.07121082\n",
            " 0.06866681 0.07256333 0.07245599 0.07041649 0.0664985  0.06738944\n",
            " 0.06624088 0.06543581 0.06397596 0.06182911 0.06182911 0.0612924\n",
            " 0.06504938 0.0661228  0.06394375 0.06134607 0.06182911 0.06053027\n",
            " 0.059693   0.05967153 0.05873766 0.05539931 0.05703091 0.05831902\n",
            " 0.05860884 0.0596286  0.06613353 0.06507085 0.06558609 0.0661228\n",
            " 0.06545728 0.07084586 0.07213396 0.06955775 0.06934307 0.0709532\n",
            " 0.06742164 0.06720696 0.06504938 0.06558609 0.07141477 0.07138257\n",
            " 0.07150064 0.06875268 0.06311722 0.05807213 0.05878059 0.06182911\n",
            " 0.06108845 0.06045513 0.05849077 0.05413267 0.04491198 0.55184629\n",
            " 0.5266316  0.56633748 0.58565908 0.57814513 0.54594246 0.58137613\n",
            " 0.552383   0.54594246 0.54057535 0.49549163 0.45577501 0.38063547\n",
            " 0.41605839 0.45792185 0.41605839 0.31086303 0.27651353 0.29368828\n",
            " 0.32057583 0.32057583 0.32057583 0.32057583 0.32057583 0.32057583\n",
            " 0.32057583 0.32057583 0.32057583 0.32219627]\n",
            "1 day output [[0.32263643]]\n",
            "2 day input [0.06557535 0.06955775 0.07481752 0.06987978 0.06883856 0.06613353\n",
            " 0.0677222  0.06303134 0.06075569 0.06166584 0.06186131 0.06290253\n",
            " 0.06235509 0.06182911 0.06469515 0.07030915 0.07121082 0.06866681\n",
            " 0.07256333 0.07245599 0.07041649 0.0664985  0.06738944 0.06624088\n",
            " 0.06543581 0.06397596 0.06182911 0.06182911 0.0612924  0.06504938\n",
            " 0.0661228  0.06394375 0.06134607 0.06182911 0.06053027 0.059693\n",
            " 0.05967153 0.05873766 0.05539931 0.05703091 0.05831902 0.05860884\n",
            " 0.0596286  0.06613353 0.06507085 0.06558609 0.0661228  0.06545728\n",
            " 0.07084586 0.07213396 0.06955775 0.06934307 0.0709532  0.06742164\n",
            " 0.06720696 0.06504938 0.06558609 0.07141477 0.07138257 0.07150064\n",
            " 0.06875268 0.06311722 0.05807213 0.05878059 0.06182911 0.06108845\n",
            " 0.06045513 0.05849077 0.05413267 0.04491198 0.55184629 0.5266316\n",
            " 0.56633748 0.58565908 0.57814513 0.54594246 0.58137613 0.552383\n",
            " 0.54594246 0.54057535 0.49549163 0.45577501 0.38063547 0.41605839\n",
            " 0.45792185 0.41605839 0.31086303 0.27651353 0.29368828 0.32057583\n",
            " 0.32057583 0.32057583 0.32057583 0.32057583 0.32057583 0.32057583\n",
            " 0.32057583 0.32057583 0.32219627 0.32263643]\n",
            "2 day output [[0.3228236]]\n",
            "3 day input [0.06955775 0.07481752 0.06987978 0.06883856 0.06613353 0.0677222\n",
            " 0.06303134 0.06075569 0.06166584 0.06186131 0.06290253 0.06235509\n",
            " 0.06182911 0.06469515 0.07030915 0.07121082 0.06866681 0.07256333\n",
            " 0.07245599 0.07041649 0.0664985  0.06738944 0.06624088 0.06543581\n",
            " 0.06397596 0.06182911 0.06182911 0.0612924  0.06504938 0.0661228\n",
            " 0.06394375 0.06134607 0.06182911 0.06053027 0.059693   0.05967153\n",
            " 0.05873766 0.05539931 0.05703091 0.05831902 0.05860884 0.0596286\n",
            " 0.06613353 0.06507085 0.06558609 0.0661228  0.06545728 0.07084586\n",
            " 0.07213396 0.06955775 0.06934307 0.0709532  0.06742164 0.06720696\n",
            " 0.06504938 0.06558609 0.07141477 0.07138257 0.07150064 0.06875268\n",
            " 0.06311722 0.05807213 0.05878059 0.06182911 0.06108845 0.06045513\n",
            " 0.05849077 0.05413267 0.04491198 0.55184629 0.5266316  0.56633748\n",
            " 0.58565908 0.57814513 0.54594246 0.58137613 0.552383   0.54594246\n",
            " 0.54057535 0.49549163 0.45577501 0.38063547 0.41605839 0.45792185\n",
            " 0.41605839 0.31086303 0.27651353 0.29368828 0.32057583 0.32057583\n",
            " 0.32057583 0.32057583 0.32057583 0.32057583 0.32057583 0.32057583\n",
            " 0.32057583 0.32219627 0.32263643 0.32282361]\n",
            "3 day output [[0.32298848]]\n",
            "4 day input [0.07481752 0.06987978 0.06883856 0.06613353 0.0677222  0.06303134\n",
            " 0.06075569 0.06166584 0.06186131 0.06290253 0.06235509 0.06182911\n",
            " 0.06469515 0.07030915 0.07121082 0.06866681 0.07256333 0.07245599\n",
            " 0.07041649 0.0664985  0.06738944 0.06624088 0.06543581 0.06397596\n",
            " 0.06182911 0.06182911 0.0612924  0.06504938 0.0661228  0.06394375\n",
            " 0.06134607 0.06182911 0.06053027 0.059693   0.05967153 0.05873766\n",
            " 0.05539931 0.05703091 0.05831902 0.05860884 0.0596286  0.06613353\n",
            " 0.06507085 0.06558609 0.0661228  0.06545728 0.07084586 0.07213396\n",
            " 0.06955775 0.06934307 0.0709532  0.06742164 0.06720696 0.06504938\n",
            " 0.06558609 0.07141477 0.07138257 0.07150064 0.06875268 0.06311722\n",
            " 0.05807213 0.05878059 0.06182911 0.06108845 0.06045513 0.05849077\n",
            " 0.05413267 0.04491198 0.55184629 0.5266316  0.56633748 0.58565908\n",
            " 0.57814513 0.54594246 0.58137613 0.552383   0.54594246 0.54057535\n",
            " 0.49549163 0.45577501 0.38063547 0.41605839 0.45792185 0.41605839\n",
            " 0.31086303 0.27651353 0.29368828 0.32057583 0.32057583 0.32057583\n",
            " 0.32057583 0.32057583 0.32057583 0.32057583 0.32057583 0.32057583\n",
            " 0.32219627 0.32263643 0.32282361 0.32298848]\n",
            "4 day output [[0.32320306]]\n",
            "5 day input [0.06987978 0.06883856 0.06613353 0.0677222  0.06303134 0.06075569\n",
            " 0.06166584 0.06186131 0.06290253 0.06235509 0.06182911 0.06469515\n",
            " 0.07030915 0.07121082 0.06866681 0.07256333 0.07245599 0.07041649\n",
            " 0.0664985  0.06738944 0.06624088 0.06543581 0.06397596 0.06182911\n",
            " 0.06182911 0.0612924  0.06504938 0.0661228  0.06394375 0.06134607\n",
            " 0.06182911 0.06053027 0.059693   0.05967153 0.05873766 0.05539931\n",
            " 0.05703091 0.05831902 0.05860884 0.0596286  0.06613353 0.06507085\n",
            " 0.06558609 0.0661228  0.06545728 0.07084586 0.07213396 0.06955775\n",
            " 0.06934307 0.0709532  0.06742164 0.06720696 0.06504938 0.06558609\n",
            " 0.07141477 0.07138257 0.07150064 0.06875268 0.06311722 0.05807213\n",
            " 0.05878059 0.06182911 0.06108845 0.06045513 0.05849077 0.05413267\n",
            " 0.04491198 0.55184629 0.5266316  0.56633748 0.58565908 0.57814513\n",
            " 0.54594246 0.58137613 0.552383   0.54594246 0.54057535 0.49549163\n",
            " 0.45577501 0.38063547 0.41605839 0.45792185 0.41605839 0.31086303\n",
            " 0.27651353 0.29368828 0.32057583 0.32057583 0.32057583 0.32057583\n",
            " 0.32057583 0.32057583 0.32057583 0.32057583 0.32057583 0.32219627\n",
            " 0.32263643 0.32282361 0.32298848 0.32320306]\n",
            "5 day output [[0.3235613]]\n",
            "6 day input [0.06883856 0.06613353 0.0677222  0.06303134 0.06075569 0.06166584\n",
            " 0.06186131 0.06290253 0.06235509 0.06182911 0.06469515 0.07030915\n",
            " 0.07121082 0.06866681 0.07256333 0.07245599 0.07041649 0.0664985\n",
            " 0.06738944 0.06624088 0.06543581 0.06397596 0.06182911 0.06182911\n",
            " 0.0612924  0.06504938 0.0661228  0.06394375 0.06134607 0.06182911\n",
            " 0.06053027 0.059693   0.05967153 0.05873766 0.05539931 0.05703091\n",
            " 0.05831902 0.05860884 0.0596286  0.06613353 0.06507085 0.06558609\n",
            " 0.0661228  0.06545728 0.07084586 0.07213396 0.06955775 0.06934307\n",
            " 0.0709532  0.06742164 0.06720696 0.06504938 0.06558609 0.07141477\n",
            " 0.07138257 0.07150064 0.06875268 0.06311722 0.05807213 0.05878059\n",
            " 0.06182911 0.06108845 0.06045513 0.05849077 0.05413267 0.04491198\n",
            " 0.55184629 0.5266316  0.56633748 0.58565908 0.57814513 0.54594246\n",
            " 0.58137613 0.552383   0.54594246 0.54057535 0.49549163 0.45577501\n",
            " 0.38063547 0.41605839 0.45792185 0.41605839 0.31086303 0.27651353\n",
            " 0.29368828 0.32057583 0.32057583 0.32057583 0.32057583 0.32057583\n",
            " 0.32057583 0.32057583 0.32057583 0.32057583 0.32219627 0.32263643\n",
            " 0.32282361 0.32298848 0.32320306 0.32356131]\n",
            "6 day output [[0.3241284]]\n",
            "7 day input [0.06613353 0.0677222  0.06303134 0.06075569 0.06166584 0.06186131\n",
            " 0.06290253 0.06235509 0.06182911 0.06469515 0.07030915 0.07121082\n",
            " 0.06866681 0.07256333 0.07245599 0.07041649 0.0664985  0.06738944\n",
            " 0.06624088 0.06543581 0.06397596 0.06182911 0.06182911 0.0612924\n",
            " 0.06504938 0.0661228  0.06394375 0.06134607 0.06182911 0.06053027\n",
            " 0.059693   0.05967153 0.05873766 0.05539931 0.05703091 0.05831902\n",
            " 0.05860884 0.0596286  0.06613353 0.06507085 0.06558609 0.0661228\n",
            " 0.06545728 0.07084586 0.07213396 0.06955775 0.06934307 0.0709532\n",
            " 0.06742164 0.06720696 0.06504938 0.06558609 0.07141477 0.07138257\n",
            " 0.07150064 0.06875268 0.06311722 0.05807213 0.05878059 0.06182911\n",
            " 0.06108845 0.06045513 0.05849077 0.05413267 0.04491198 0.55184629\n",
            " 0.5266316  0.56633748 0.58565908 0.57814513 0.54594246 0.58137613\n",
            " 0.552383   0.54594246 0.54057535 0.49549163 0.45577501 0.38063547\n",
            " 0.41605839 0.45792185 0.41605839 0.31086303 0.27651353 0.29368828\n",
            " 0.32057583 0.32057583 0.32057583 0.32057583 0.32057583 0.32057583\n",
            " 0.32057583 0.32057583 0.32057583 0.32219627 0.32263643 0.32282361\n",
            " 0.32298848 0.32320306 0.32356131 0.32412839]\n",
            "7 day output [[0.32494193]]\n",
            "8 day input [0.0677222  0.06303134 0.06075569 0.06166584 0.06186131 0.06290253\n",
            " 0.06235509 0.06182911 0.06469515 0.07030915 0.07121082 0.06866681\n",
            " 0.07256333 0.07245599 0.07041649 0.0664985  0.06738944 0.06624088\n",
            " 0.06543581 0.06397596 0.06182911 0.06182911 0.0612924  0.06504938\n",
            " 0.0661228  0.06394375 0.06134607 0.06182911 0.06053027 0.059693\n",
            " 0.05967153 0.05873766 0.05539931 0.05703091 0.05831902 0.05860884\n",
            " 0.0596286  0.06613353 0.06507085 0.06558609 0.0661228  0.06545728\n",
            " 0.07084586 0.07213396 0.06955775 0.06934307 0.0709532  0.06742164\n",
            " 0.06720696 0.06504938 0.06558609 0.07141477 0.07138257 0.07150064\n",
            " 0.06875268 0.06311722 0.05807213 0.05878059 0.06182911 0.06108845\n",
            " 0.06045513 0.05849077 0.05413267 0.04491198 0.55184629 0.5266316\n",
            " 0.56633748 0.58565908 0.57814513 0.54594246 0.58137613 0.552383\n",
            " 0.54594246 0.54057535 0.49549163 0.45577501 0.38063547 0.41605839\n",
            " 0.45792185 0.41605839 0.31086303 0.27651353 0.29368828 0.32057583\n",
            " 0.32057583 0.32057583 0.32057583 0.32057583 0.32057583 0.32057583\n",
            " 0.32057583 0.32057583 0.32219627 0.32263643 0.32282361 0.32298848\n",
            " 0.32320306 0.32356131 0.32412839 0.32494193]\n",
            "8 day output [[0.326015]]\n",
            "9 day input [0.06303134 0.06075569 0.06166584 0.06186131 0.06290253 0.06235509\n",
            " 0.06182911 0.06469515 0.07030915 0.07121082 0.06866681 0.07256333\n",
            " 0.07245599 0.07041649 0.0664985  0.06738944 0.06624088 0.06543581\n",
            " 0.06397596 0.06182911 0.06182911 0.0612924  0.06504938 0.0661228\n",
            " 0.06394375 0.06134607 0.06182911 0.06053027 0.059693   0.05967153\n",
            " 0.05873766 0.05539931 0.05703091 0.05831902 0.05860884 0.0596286\n",
            " 0.06613353 0.06507085 0.06558609 0.0661228  0.06545728 0.07084586\n",
            " 0.07213396 0.06955775 0.06934307 0.0709532  0.06742164 0.06720696\n",
            " 0.06504938 0.06558609 0.07141477 0.07138257 0.07150064 0.06875268\n",
            " 0.06311722 0.05807213 0.05878059 0.06182911 0.06108845 0.06045513\n",
            " 0.05849077 0.05413267 0.04491198 0.55184629 0.5266316  0.56633748\n",
            " 0.58565908 0.57814513 0.54594246 0.58137613 0.552383   0.54594246\n",
            " 0.54057535 0.49549163 0.45577501 0.38063547 0.41605839 0.45792185\n",
            " 0.41605839 0.31086303 0.27651353 0.29368828 0.32057583 0.32057583\n",
            " 0.32057583 0.32057583 0.32057583 0.32057583 0.32057583 0.32057583\n",
            " 0.32057583 0.32219627 0.32263643 0.32282361 0.32298848 0.32320306\n",
            " 0.32356131 0.32412839 0.32494193 0.326015  ]\n",
            "9 day output [[0.3273426]]\n",
            "10 day input [0.06075569 0.06166584 0.06186131 0.06290253 0.06235509 0.06182911\n",
            " 0.06469515 0.07030915 0.07121082 0.06866681 0.07256333 0.07245599\n",
            " 0.07041649 0.0664985  0.06738944 0.06624088 0.06543581 0.06397596\n",
            " 0.06182911 0.06182911 0.0612924  0.06504938 0.0661228  0.06394375\n",
            " 0.06134607 0.06182911 0.06053027 0.059693   0.05967153 0.05873766\n",
            " 0.05539931 0.05703091 0.05831902 0.05860884 0.0596286  0.06613353\n",
            " 0.06507085 0.06558609 0.0661228  0.06545728 0.07084586 0.07213396\n",
            " 0.06955775 0.06934307 0.0709532  0.06742164 0.06720696 0.06504938\n",
            " 0.06558609 0.07141477 0.07138257 0.07150064 0.06875268 0.06311722\n",
            " 0.05807213 0.05878059 0.06182911 0.06108845 0.06045513 0.05849077\n",
            " 0.05413267 0.04491198 0.55184629 0.5266316  0.56633748 0.58565908\n",
            " 0.57814513 0.54594246 0.58137613 0.552383   0.54594246 0.54057535\n",
            " 0.49549163 0.45577501 0.38063547 0.41605839 0.45792185 0.41605839\n",
            " 0.31086303 0.27651353 0.29368828 0.32057583 0.32057583 0.32057583\n",
            " 0.32057583 0.32057583 0.32057583 0.32057583 0.32057583 0.32057583\n",
            " 0.32219627 0.32263643 0.32282361 0.32298848 0.32320306 0.32356131\n",
            " 0.32412839 0.32494193 0.326015   0.3273426 ]\n",
            "10 day output [[0.32890716]]\n",
            "11 day input [0.06166584 0.06186131 0.06290253 0.06235509 0.06182911 0.06469515\n",
            " 0.07030915 0.07121082 0.06866681 0.07256333 0.07245599 0.07041649\n",
            " 0.0664985  0.06738944 0.06624088 0.06543581 0.06397596 0.06182911\n",
            " 0.06182911 0.0612924  0.06504938 0.0661228  0.06394375 0.06134607\n",
            " 0.06182911 0.06053027 0.059693   0.05967153 0.05873766 0.05539931\n",
            " 0.05703091 0.05831902 0.05860884 0.0596286  0.06613353 0.06507085\n",
            " 0.06558609 0.0661228  0.06545728 0.07084586 0.07213396 0.06955775\n",
            " 0.06934307 0.0709532  0.06742164 0.06720696 0.06504938 0.06558609\n",
            " 0.07141477 0.07138257 0.07150064 0.06875268 0.06311722 0.05807213\n",
            " 0.05878059 0.06182911 0.06108845 0.06045513 0.05849077 0.05413267\n",
            " 0.04491198 0.55184629 0.5266316  0.56633748 0.58565908 0.57814513\n",
            " 0.54594246 0.58137613 0.552383   0.54594246 0.54057535 0.49549163\n",
            " 0.45577501 0.38063547 0.41605839 0.45792185 0.41605839 0.31086303\n",
            " 0.27651353 0.29368828 0.32057583 0.32057583 0.32057583 0.32057583\n",
            " 0.32057583 0.32057583 0.32057583 0.32057583 0.32057583 0.32219627\n",
            " 0.32263643 0.32282361 0.32298848 0.32320306 0.32356131 0.32412839\n",
            " 0.32494193 0.326015   0.3273426  0.32890716]\n",
            "11 day output [[0.33068362]]\n",
            "12 day input [0.06186131 0.06290253 0.06235509 0.06182911 0.06469515 0.07030915\n",
            " 0.07121082 0.06866681 0.07256333 0.07245599 0.07041649 0.0664985\n",
            " 0.06738944 0.06624088 0.06543581 0.06397596 0.06182911 0.06182911\n",
            " 0.0612924  0.06504938 0.0661228  0.06394375 0.06134607 0.06182911\n",
            " 0.06053027 0.059693   0.05967153 0.05873766 0.05539931 0.05703091\n",
            " 0.05831902 0.05860884 0.0596286  0.06613353 0.06507085 0.06558609\n",
            " 0.0661228  0.06545728 0.07084586 0.07213396 0.06955775 0.06934307\n",
            " 0.0709532  0.06742164 0.06720696 0.06504938 0.06558609 0.07141477\n",
            " 0.07138257 0.07150064 0.06875268 0.06311722 0.05807213 0.05878059\n",
            " 0.06182911 0.06108845 0.06045513 0.05849077 0.05413267 0.04491198\n",
            " 0.55184629 0.5266316  0.56633748 0.58565908 0.57814513 0.54594246\n",
            " 0.58137613 0.552383   0.54594246 0.54057535 0.49549163 0.45577501\n",
            " 0.38063547 0.41605839 0.45792185 0.41605839 0.31086303 0.27651353\n",
            " 0.29368828 0.32057583 0.32057583 0.32057583 0.32057583 0.32057583\n",
            " 0.32057583 0.32057583 0.32057583 0.32057583 0.32219627 0.32263643\n",
            " 0.32282361 0.32298848 0.32320306 0.32356131 0.32412839 0.32494193\n",
            " 0.326015   0.3273426  0.32890716 0.33068362]\n",
            "12 day output [[0.33264422]]\n",
            "13 day input [0.06290253 0.06235509 0.06182911 0.06469515 0.07030915 0.07121082\n",
            " 0.06866681 0.07256333 0.07245599 0.07041649 0.0664985  0.06738944\n",
            " 0.06624088 0.06543581 0.06397596 0.06182911 0.06182911 0.0612924\n",
            " 0.06504938 0.0661228  0.06394375 0.06134607 0.06182911 0.06053027\n",
            " 0.059693   0.05967153 0.05873766 0.05539931 0.05703091 0.05831902\n",
            " 0.05860884 0.0596286  0.06613353 0.06507085 0.06558609 0.0661228\n",
            " 0.06545728 0.07084586 0.07213396 0.06955775 0.06934307 0.0709532\n",
            " 0.06742164 0.06720696 0.06504938 0.06558609 0.07141477 0.07138257\n",
            " 0.07150064 0.06875268 0.06311722 0.05807213 0.05878059 0.06182911\n",
            " 0.06108845 0.06045513 0.05849077 0.05413267 0.04491198 0.55184629\n",
            " 0.5266316  0.56633748 0.58565908 0.57814513 0.54594246 0.58137613\n",
            " 0.552383   0.54594246 0.54057535 0.49549163 0.45577501 0.38063547\n",
            " 0.41605839 0.45792185 0.41605839 0.31086303 0.27651353 0.29368828\n",
            " 0.32057583 0.32057583 0.32057583 0.32057583 0.32057583 0.32057583\n",
            " 0.32057583 0.32057583 0.32057583 0.32219627 0.32263643 0.32282361\n",
            " 0.32298848 0.32320306 0.32356131 0.32412839 0.32494193 0.326015\n",
            " 0.3273426  0.32890716 0.33068362 0.33264422]\n",
            "13 day output [[0.33476096]]\n",
            "14 day input [0.06235509 0.06182911 0.06469515 0.07030915 0.07121082 0.06866681\n",
            " 0.07256333 0.07245599 0.07041649 0.0664985  0.06738944 0.06624088\n",
            " 0.06543581 0.06397596 0.06182911 0.06182911 0.0612924  0.06504938\n",
            " 0.0661228  0.06394375 0.06134607 0.06182911 0.06053027 0.059693\n",
            " 0.05967153 0.05873766 0.05539931 0.05703091 0.05831902 0.05860884\n",
            " 0.0596286  0.06613353 0.06507085 0.06558609 0.0661228  0.06545728\n",
            " 0.07084586 0.07213396 0.06955775 0.06934307 0.0709532  0.06742164\n",
            " 0.06720696 0.06504938 0.06558609 0.07141477 0.07138257 0.07150064\n",
            " 0.06875268 0.06311722 0.05807213 0.05878059 0.06182911 0.06108845\n",
            " 0.06045513 0.05849077 0.05413267 0.04491198 0.55184629 0.5266316\n",
            " 0.56633748 0.58565908 0.57814513 0.54594246 0.58137613 0.552383\n",
            " 0.54594246 0.54057535 0.49549163 0.45577501 0.38063547 0.41605839\n",
            " 0.45792185 0.41605839 0.31086303 0.27651353 0.29368828 0.32057583\n",
            " 0.32057583 0.32057583 0.32057583 0.32057583 0.32057583 0.32057583\n",
            " 0.32057583 0.32057583 0.32219627 0.32263643 0.32282361 0.32298848\n",
            " 0.32320306 0.32356131 0.32412839 0.32494193 0.326015   0.3273426\n",
            " 0.32890716 0.33068362 0.33264422 0.33476096]\n",
            "14 day output [[0.33700773]]\n",
            "15 day input [0.06182911 0.06469515 0.07030915 0.07121082 0.06866681 0.07256333\n",
            " 0.07245599 0.07041649 0.0664985  0.06738944 0.06624088 0.06543581\n",
            " 0.06397596 0.06182911 0.06182911 0.0612924  0.06504938 0.0661228\n",
            " 0.06394375 0.06134607 0.06182911 0.06053027 0.059693   0.05967153\n",
            " 0.05873766 0.05539931 0.05703091 0.05831902 0.05860884 0.0596286\n",
            " 0.06613353 0.06507085 0.06558609 0.0661228  0.06545728 0.07084586\n",
            " 0.07213396 0.06955775 0.06934307 0.0709532  0.06742164 0.06720696\n",
            " 0.06504938 0.06558609 0.07141477 0.07138257 0.07150064 0.06875268\n",
            " 0.06311722 0.05807213 0.05878059 0.06182911 0.06108845 0.06045513\n",
            " 0.05849077 0.05413267 0.04491198 0.55184629 0.5266316  0.56633748\n",
            " 0.58565908 0.57814513 0.54594246 0.58137613 0.552383   0.54594246\n",
            " 0.54057535 0.49549163 0.45577501 0.38063547 0.41605839 0.45792185\n",
            " 0.41605839 0.31086303 0.27651353 0.29368828 0.32057583 0.32057583\n",
            " 0.32057583 0.32057583 0.32057583 0.32057583 0.32057583 0.32057583\n",
            " 0.32057583 0.32219627 0.32263643 0.32282361 0.32298848 0.32320306\n",
            " 0.32356131 0.32412839 0.32494193 0.326015   0.3273426  0.32890716\n",
            " 0.33068362 0.33264422 0.33476096 0.33700773]\n",
            "15 day output [[0.3393611]]\n",
            "16 day input [0.06469515 0.07030915 0.07121082 0.06866681 0.07256333 0.07245599\n",
            " 0.07041649 0.0664985  0.06738944 0.06624088 0.06543581 0.06397596\n",
            " 0.06182911 0.06182911 0.0612924  0.06504938 0.0661228  0.06394375\n",
            " 0.06134607 0.06182911 0.06053027 0.059693   0.05967153 0.05873766\n",
            " 0.05539931 0.05703091 0.05831902 0.05860884 0.0596286  0.06613353\n",
            " 0.06507085 0.06558609 0.0661228  0.06545728 0.07084586 0.07213396\n",
            " 0.06955775 0.06934307 0.0709532  0.06742164 0.06720696 0.06504938\n",
            " 0.06558609 0.07141477 0.07138257 0.07150064 0.06875268 0.06311722\n",
            " 0.05807213 0.05878059 0.06182911 0.06108845 0.06045513 0.05849077\n",
            " 0.05413267 0.04491198 0.55184629 0.5266316  0.56633748 0.58565908\n",
            " 0.57814513 0.54594246 0.58137613 0.552383   0.54594246 0.54057535\n",
            " 0.49549163 0.45577501 0.38063547 0.41605839 0.45792185 0.41605839\n",
            " 0.31086303 0.27651353 0.29368828 0.32057583 0.32057583 0.32057583\n",
            " 0.32057583 0.32057583 0.32057583 0.32057583 0.32057583 0.32057583\n",
            " 0.32219627 0.32263643 0.32282361 0.32298848 0.32320306 0.32356131\n",
            " 0.32412839 0.32494193 0.326015   0.3273426  0.32890716 0.33068362\n",
            " 0.33264422 0.33476096 0.33700773 0.3393611 ]\n",
            "16 day output [[0.3418005]]\n",
            "17 day input [0.07030915 0.07121082 0.06866681 0.07256333 0.07245599 0.07041649\n",
            " 0.0664985  0.06738944 0.06624088 0.06543581 0.06397596 0.06182911\n",
            " 0.06182911 0.0612924  0.06504938 0.0661228  0.06394375 0.06134607\n",
            " 0.06182911 0.06053027 0.059693   0.05967153 0.05873766 0.05539931\n",
            " 0.05703091 0.05831902 0.05860884 0.0596286  0.06613353 0.06507085\n",
            " 0.06558609 0.0661228  0.06545728 0.07084586 0.07213396 0.06955775\n",
            " 0.06934307 0.0709532  0.06742164 0.06720696 0.06504938 0.06558609\n",
            " 0.07141477 0.07138257 0.07150064 0.06875268 0.06311722 0.05807213\n",
            " 0.05878059 0.06182911 0.06108845 0.06045513 0.05849077 0.05413267\n",
            " 0.04491198 0.55184629 0.5266316  0.56633748 0.58565908 0.57814513\n",
            " 0.54594246 0.58137613 0.552383   0.54594246 0.54057535 0.49549163\n",
            " 0.45577501 0.38063547 0.41605839 0.45792185 0.41605839 0.31086303\n",
            " 0.27651353 0.29368828 0.32057583 0.32057583 0.32057583 0.32057583\n",
            " 0.32057583 0.32057583 0.32057583 0.32057583 0.32057583 0.32219627\n",
            " 0.32263643 0.32282361 0.32298848 0.32320306 0.32356131 0.32412839\n",
            " 0.32494193 0.326015   0.3273426  0.32890716 0.33068362 0.33264422\n",
            " 0.33476096 0.33700773 0.3393611  0.34180051]\n",
            "17 day output [[0.3443081]]\n",
            "18 day input [0.07121082 0.06866681 0.07256333 0.07245599 0.07041649 0.0664985\n",
            " 0.06738944 0.06624088 0.06543581 0.06397596 0.06182911 0.06182911\n",
            " 0.0612924  0.06504938 0.0661228  0.06394375 0.06134607 0.06182911\n",
            " 0.06053027 0.059693   0.05967153 0.05873766 0.05539931 0.05703091\n",
            " 0.05831902 0.05860884 0.0596286  0.06613353 0.06507085 0.06558609\n",
            " 0.0661228  0.06545728 0.07084586 0.07213396 0.06955775 0.06934307\n",
            " 0.0709532  0.06742164 0.06720696 0.06504938 0.06558609 0.07141477\n",
            " 0.07138257 0.07150064 0.06875268 0.06311722 0.05807213 0.05878059\n",
            " 0.06182911 0.06108845 0.06045513 0.05849077 0.05413267 0.04491198\n",
            " 0.55184629 0.5266316  0.56633748 0.58565908 0.57814513 0.54594246\n",
            " 0.58137613 0.552383   0.54594246 0.54057535 0.49549163 0.45577501\n",
            " 0.38063547 0.41605839 0.45792185 0.41605839 0.31086303 0.27651353\n",
            " 0.29368828 0.32057583 0.32057583 0.32057583 0.32057583 0.32057583\n",
            " 0.32057583 0.32057583 0.32057583 0.32057583 0.32219627 0.32263643\n",
            " 0.32282361 0.32298848 0.32320306 0.32356131 0.32412839 0.32494193\n",
            " 0.326015   0.3273426  0.32890716 0.33068362 0.33264422 0.33476096\n",
            " 0.33700773 0.3393611  0.34180051 0.34430811]\n",
            "18 day output [[0.3468683]]\n",
            "19 day input [0.06866681 0.07256333 0.07245599 0.07041649 0.0664985  0.06738944\n",
            " 0.06624088 0.06543581 0.06397596 0.06182911 0.06182911 0.0612924\n",
            " 0.06504938 0.0661228  0.06394375 0.06134607 0.06182911 0.06053027\n",
            " 0.059693   0.05967153 0.05873766 0.05539931 0.05703091 0.05831902\n",
            " 0.05860884 0.0596286  0.06613353 0.06507085 0.06558609 0.0661228\n",
            " 0.06545728 0.07084586 0.07213396 0.06955775 0.06934307 0.0709532\n",
            " 0.06742164 0.06720696 0.06504938 0.06558609 0.07141477 0.07138257\n",
            " 0.07150064 0.06875268 0.06311722 0.05807213 0.05878059 0.06182911\n",
            " 0.06108845 0.06045513 0.05849077 0.05413267 0.04491198 0.55184629\n",
            " 0.5266316  0.56633748 0.58565908 0.57814513 0.54594246 0.58137613\n",
            " 0.552383   0.54594246 0.54057535 0.49549163 0.45577501 0.38063547\n",
            " 0.41605839 0.45792185 0.41605839 0.31086303 0.27651353 0.29368828\n",
            " 0.32057583 0.32057583 0.32057583 0.32057583 0.32057583 0.32057583\n",
            " 0.32057583 0.32057583 0.32057583 0.32219627 0.32263643 0.32282361\n",
            " 0.32298848 0.32320306 0.32356131 0.32412839 0.32494193 0.326015\n",
            " 0.3273426  0.32890716 0.33068362 0.33264422 0.33476096 0.33700773\n",
            " 0.3393611  0.34180051 0.34430811 0.34686831]\n",
            "19 day output [[0.349467]]\n",
            "20 day input [0.07256333 0.07245599 0.07041649 0.0664985  0.06738944 0.06624088\n",
            " 0.06543581 0.06397596 0.06182911 0.06182911 0.0612924  0.06504938\n",
            " 0.0661228  0.06394375 0.06134607 0.06182911 0.06053027 0.059693\n",
            " 0.05967153 0.05873766 0.05539931 0.05703091 0.05831902 0.05860884\n",
            " 0.0596286  0.06613353 0.06507085 0.06558609 0.0661228  0.06545728\n",
            " 0.07084586 0.07213396 0.06955775 0.06934307 0.0709532  0.06742164\n",
            " 0.06720696 0.06504938 0.06558609 0.07141477 0.07138257 0.07150064\n",
            " 0.06875268 0.06311722 0.05807213 0.05878059 0.06182911 0.06108845\n",
            " 0.06045513 0.05849077 0.05413267 0.04491198 0.55184629 0.5266316\n",
            " 0.56633748 0.58565908 0.57814513 0.54594246 0.58137613 0.552383\n",
            " 0.54594246 0.54057535 0.49549163 0.45577501 0.38063547 0.41605839\n",
            " 0.45792185 0.41605839 0.31086303 0.27651353 0.29368828 0.32057583\n",
            " 0.32057583 0.32057583 0.32057583 0.32057583 0.32057583 0.32057583\n",
            " 0.32057583 0.32057583 0.32219627 0.32263643 0.32282361 0.32298848\n",
            " 0.32320306 0.32356131 0.32412839 0.32494193 0.326015   0.3273426\n",
            " 0.32890716 0.33068362 0.33264422 0.33476096 0.33700773 0.3393611\n",
            " 0.34180051 0.34430811 0.34686831 0.34946701]\n",
            "20 day output [[0.35209155]]\n",
            "21 day input [0.07245599 0.07041649 0.0664985  0.06738944 0.06624088 0.06543581\n",
            " 0.06397596 0.06182911 0.06182911 0.0612924  0.06504938 0.0661228\n",
            " 0.06394375 0.06134607 0.06182911 0.06053027 0.059693   0.05967153\n",
            " 0.05873766 0.05539931 0.05703091 0.05831902 0.05860884 0.0596286\n",
            " 0.06613353 0.06507085 0.06558609 0.0661228  0.06545728 0.07084586\n",
            " 0.07213396 0.06955775 0.06934307 0.0709532  0.06742164 0.06720696\n",
            " 0.06504938 0.06558609 0.07141477 0.07138257 0.07150064 0.06875268\n",
            " 0.06311722 0.05807213 0.05878059 0.06182911 0.06108845 0.06045513\n",
            " 0.05849077 0.05413267 0.04491198 0.55184629 0.5266316  0.56633748\n",
            " 0.58565908 0.57814513 0.54594246 0.58137613 0.552383   0.54594246\n",
            " 0.54057535 0.49549163 0.45577501 0.38063547 0.41605839 0.45792185\n",
            " 0.41605839 0.31086303 0.27651353 0.29368828 0.32057583 0.32057583\n",
            " 0.32057583 0.32057583 0.32057583 0.32057583 0.32057583 0.32057583\n",
            " 0.32057583 0.32219627 0.32263643 0.32282361 0.32298848 0.32320306\n",
            " 0.32356131 0.32412839 0.32494193 0.326015   0.3273426  0.32890716\n",
            " 0.33068362 0.33264422 0.33476096 0.33700773 0.3393611  0.34180051\n",
            " 0.34430811 0.34686831 0.34946701 0.35209155]\n",
            "21 day output [[0.35473007]]\n",
            "22 day input [0.07041649 0.0664985  0.06738944 0.06624088 0.06543581 0.06397596\n",
            " 0.06182911 0.06182911 0.0612924  0.06504938 0.0661228  0.06394375\n",
            " 0.06134607 0.06182911 0.06053027 0.059693   0.05967153 0.05873766\n",
            " 0.05539931 0.05703091 0.05831902 0.05860884 0.0596286  0.06613353\n",
            " 0.06507085 0.06558609 0.0661228  0.06545728 0.07084586 0.07213396\n",
            " 0.06955775 0.06934307 0.0709532  0.06742164 0.06720696 0.06504938\n",
            " 0.06558609 0.07141477 0.07138257 0.07150064 0.06875268 0.06311722\n",
            " 0.05807213 0.05878059 0.06182911 0.06108845 0.06045513 0.05849077\n",
            " 0.05413267 0.04491198 0.55184629 0.5266316  0.56633748 0.58565908\n",
            " 0.57814513 0.54594246 0.58137613 0.552383   0.54594246 0.54057535\n",
            " 0.49549163 0.45577501 0.38063547 0.41605839 0.45792185 0.41605839\n",
            " 0.31086303 0.27651353 0.29368828 0.32057583 0.32057583 0.32057583\n",
            " 0.32057583 0.32057583 0.32057583 0.32057583 0.32057583 0.32057583\n",
            " 0.32219627 0.32263643 0.32282361 0.32298848 0.32320306 0.32356131\n",
            " 0.32412839 0.32494193 0.326015   0.3273426  0.32890716 0.33068362\n",
            " 0.33264422 0.33476096 0.33700773 0.3393611  0.34180051 0.34430811\n",
            " 0.34686831 0.34946701 0.35209155 0.35473007]\n",
            "22 day output [[0.3573711]]\n",
            "23 day input [0.0664985  0.06738944 0.06624088 0.06543581 0.06397596 0.06182911\n",
            " 0.06182911 0.0612924  0.06504938 0.0661228  0.06394375 0.06134607\n",
            " 0.06182911 0.06053027 0.059693   0.05967153 0.05873766 0.05539931\n",
            " 0.05703091 0.05831902 0.05860884 0.0596286  0.06613353 0.06507085\n",
            " 0.06558609 0.0661228  0.06545728 0.07084586 0.07213396 0.06955775\n",
            " 0.06934307 0.0709532  0.06742164 0.06720696 0.06504938 0.06558609\n",
            " 0.07141477 0.07138257 0.07150064 0.06875268 0.06311722 0.05807213\n",
            " 0.05878059 0.06182911 0.06108845 0.06045513 0.05849077 0.05413267\n",
            " 0.04491198 0.55184629 0.5266316  0.56633748 0.58565908 0.57814513\n",
            " 0.54594246 0.58137613 0.552383   0.54594246 0.54057535 0.49549163\n",
            " 0.45577501 0.38063547 0.41605839 0.45792185 0.41605839 0.31086303\n",
            " 0.27651353 0.29368828 0.32057583 0.32057583 0.32057583 0.32057583\n",
            " 0.32057583 0.32057583 0.32057583 0.32057583 0.32057583 0.32219627\n",
            " 0.32263643 0.32282361 0.32298848 0.32320306 0.32356131 0.32412839\n",
            " 0.32494193 0.326015   0.3273426  0.32890716 0.33068362 0.33264422\n",
            " 0.33476096 0.33700773 0.3393611  0.34180051 0.34430811 0.34686831\n",
            " 0.34946701 0.35209155 0.35473007 0.35737109]\n",
            "23 day output [[0.3600041]]\n",
            "24 day input [0.06738944 0.06624088 0.06543581 0.06397596 0.06182911 0.06182911\n",
            " 0.0612924  0.06504938 0.0661228  0.06394375 0.06134607 0.06182911\n",
            " 0.06053027 0.059693   0.05967153 0.05873766 0.05539931 0.05703091\n",
            " 0.05831902 0.05860884 0.0596286  0.06613353 0.06507085 0.06558609\n",
            " 0.0661228  0.06545728 0.07084586 0.07213396 0.06955775 0.06934307\n",
            " 0.0709532  0.06742164 0.06720696 0.06504938 0.06558609 0.07141477\n",
            " 0.07138257 0.07150064 0.06875268 0.06311722 0.05807213 0.05878059\n",
            " 0.06182911 0.06108845 0.06045513 0.05849077 0.05413267 0.04491198\n",
            " 0.55184629 0.5266316  0.56633748 0.58565908 0.57814513 0.54594246\n",
            " 0.58137613 0.552383   0.54594246 0.54057535 0.49549163 0.45577501\n",
            " 0.38063547 0.41605839 0.45792185 0.41605839 0.31086303 0.27651353\n",
            " 0.29368828 0.32057583 0.32057583 0.32057583 0.32057583 0.32057583\n",
            " 0.32057583 0.32057583 0.32057583 0.32057583 0.32219627 0.32263643\n",
            " 0.32282361 0.32298848 0.32320306 0.32356131 0.32412839 0.32494193\n",
            " 0.326015   0.3273426  0.32890716 0.33068362 0.33264422 0.33476096\n",
            " 0.33700773 0.3393611  0.34180051 0.34430811 0.34686831 0.34946701\n",
            " 0.35209155 0.35473007 0.35737109 0.3600041 ]\n",
            "24 day output [[0.36261863]]\n",
            "25 day input [0.06624088 0.06543581 0.06397596 0.06182911 0.06182911 0.0612924\n",
            " 0.06504938 0.0661228  0.06394375 0.06134607 0.06182911 0.06053027\n",
            " 0.059693   0.05967153 0.05873766 0.05539931 0.05703091 0.05831902\n",
            " 0.05860884 0.0596286  0.06613353 0.06507085 0.06558609 0.0661228\n",
            " 0.06545728 0.07084586 0.07213396 0.06955775 0.06934307 0.0709532\n",
            " 0.06742164 0.06720696 0.06504938 0.06558609 0.07141477 0.07138257\n",
            " 0.07150064 0.06875268 0.06311722 0.05807213 0.05878059 0.06182911\n",
            " 0.06108845 0.06045513 0.05849077 0.05413267 0.04491198 0.55184629\n",
            " 0.5266316  0.56633748 0.58565908 0.57814513 0.54594246 0.58137613\n",
            " 0.552383   0.54594246 0.54057535 0.49549163 0.45577501 0.38063547\n",
            " 0.41605839 0.45792185 0.41605839 0.31086303 0.27651353 0.29368828\n",
            " 0.32057583 0.32057583 0.32057583 0.32057583 0.32057583 0.32057583\n",
            " 0.32057583 0.32057583 0.32057583 0.32219627 0.32263643 0.32282361\n",
            " 0.32298848 0.32320306 0.32356131 0.32412839 0.32494193 0.326015\n",
            " 0.3273426  0.32890716 0.33068362 0.33264422 0.33476096 0.33700773\n",
            " 0.3393611  0.34180051 0.34430811 0.34686831 0.34946701 0.35209155\n",
            " 0.35473007 0.35737109 0.3600041  0.36261863]\n",
            "25 day output [[0.36520502]]\n",
            "26 day input [0.06543581 0.06397596 0.06182911 0.06182911 0.0612924  0.06504938\n",
            " 0.0661228  0.06394375 0.06134607 0.06182911 0.06053027 0.059693\n",
            " 0.05967153 0.05873766 0.05539931 0.05703091 0.05831902 0.05860884\n",
            " 0.0596286  0.06613353 0.06507085 0.06558609 0.0661228  0.06545728\n",
            " 0.07084586 0.07213396 0.06955775 0.06934307 0.0709532  0.06742164\n",
            " 0.06720696 0.06504938 0.06558609 0.07141477 0.07138257 0.07150064\n",
            " 0.06875268 0.06311722 0.05807213 0.05878059 0.06182911 0.06108845\n",
            " 0.06045513 0.05849077 0.05413267 0.04491198 0.55184629 0.5266316\n",
            " 0.56633748 0.58565908 0.57814513 0.54594246 0.58137613 0.552383\n",
            " 0.54594246 0.54057535 0.49549163 0.45577501 0.38063547 0.41605839\n",
            " 0.45792185 0.41605839 0.31086303 0.27651353 0.29368828 0.32057583\n",
            " 0.32057583 0.32057583 0.32057583 0.32057583 0.32057583 0.32057583\n",
            " 0.32057583 0.32057583 0.32219627 0.32263643 0.32282361 0.32298848\n",
            " 0.32320306 0.32356131 0.32412839 0.32494193 0.326015   0.3273426\n",
            " 0.32890716 0.33068362 0.33264422 0.33476096 0.33700773 0.3393611\n",
            " 0.34180051 0.34430811 0.34686831 0.34946701 0.35209155 0.35473007\n",
            " 0.35737109 0.3600041  0.36261863 0.36520502]\n",
            "26 day output [[0.36775407]]\n",
            "27 day input [0.06397596 0.06182911 0.06182911 0.0612924  0.06504938 0.0661228\n",
            " 0.06394375 0.06134607 0.06182911 0.06053027 0.059693   0.05967153\n",
            " 0.05873766 0.05539931 0.05703091 0.05831902 0.05860884 0.0596286\n",
            " 0.06613353 0.06507085 0.06558609 0.0661228  0.06545728 0.07084586\n",
            " 0.07213396 0.06955775 0.06934307 0.0709532  0.06742164 0.06720696\n",
            " 0.06504938 0.06558609 0.07141477 0.07138257 0.07150064 0.06875268\n",
            " 0.06311722 0.05807213 0.05878059 0.06182911 0.06108845 0.06045513\n",
            " 0.05849077 0.05413267 0.04491198 0.55184629 0.5266316  0.56633748\n",
            " 0.58565908 0.57814513 0.54594246 0.58137613 0.552383   0.54594246\n",
            " 0.54057535 0.49549163 0.45577501 0.38063547 0.41605839 0.45792185\n",
            " 0.41605839 0.31086303 0.27651353 0.29368828 0.32057583 0.32057583\n",
            " 0.32057583 0.32057583 0.32057583 0.32057583 0.32057583 0.32057583\n",
            " 0.32057583 0.32219627 0.32263643 0.32282361 0.32298848 0.32320306\n",
            " 0.32356131 0.32412839 0.32494193 0.326015   0.3273426  0.32890716\n",
            " 0.33068362 0.33264422 0.33476096 0.33700773 0.3393611  0.34180051\n",
            " 0.34430811 0.34686831 0.34946701 0.35209155 0.35473007 0.35737109\n",
            " 0.3600041  0.36261863 0.36520502 0.36775407]\n",
            "27 day output [[0.3702571]]\n",
            "28 day input [0.06182911 0.06182911 0.0612924  0.06504938 0.0661228  0.06394375\n",
            " 0.06134607 0.06182911 0.06053027 0.059693   0.05967153 0.05873766\n",
            " 0.05539931 0.05703091 0.05831902 0.05860884 0.0596286  0.06613353\n",
            " 0.06507085 0.06558609 0.0661228  0.06545728 0.07084586 0.07213396\n",
            " 0.06955775 0.06934307 0.0709532  0.06742164 0.06720696 0.06504938\n",
            " 0.06558609 0.07141477 0.07138257 0.07150064 0.06875268 0.06311722\n",
            " 0.05807213 0.05878059 0.06182911 0.06108845 0.06045513 0.05849077\n",
            " 0.05413267 0.04491198 0.55184629 0.5266316  0.56633748 0.58565908\n",
            " 0.57814513 0.54594246 0.58137613 0.552383   0.54594246 0.54057535\n",
            " 0.49549163 0.45577501 0.38063547 0.41605839 0.45792185 0.41605839\n",
            " 0.31086303 0.27651353 0.29368828 0.32057583 0.32057583 0.32057583\n",
            " 0.32057583 0.32057583 0.32057583 0.32057583 0.32057583 0.32057583\n",
            " 0.32219627 0.32263643 0.32282361 0.32298848 0.32320306 0.32356131\n",
            " 0.32412839 0.32494193 0.326015   0.3273426  0.32890716 0.33068362\n",
            " 0.33264422 0.33476096 0.33700773 0.3393611  0.34180051 0.34430811\n",
            " 0.34686831 0.34946701 0.35209155 0.35473007 0.35737109 0.3600041\n",
            " 0.36261863 0.36520502 0.36775407 0.37025711]\n",
            "28 day output [[0.37270635]]\n",
            "29 day input [0.06182911 0.0612924  0.06504938 0.0661228  0.06394375 0.06134607\n",
            " 0.06182911 0.06053027 0.059693   0.05967153 0.05873766 0.05539931\n",
            " 0.05703091 0.05831902 0.05860884 0.0596286  0.06613353 0.06507085\n",
            " 0.06558609 0.0661228  0.06545728 0.07084586 0.07213396 0.06955775\n",
            " 0.06934307 0.0709532  0.06742164 0.06720696 0.06504938 0.06558609\n",
            " 0.07141477 0.07138257 0.07150064 0.06875268 0.06311722 0.05807213\n",
            " 0.05878059 0.06182911 0.06108845 0.06045513 0.05849077 0.05413267\n",
            " 0.04491198 0.55184629 0.5266316  0.56633748 0.58565908 0.57814513\n",
            " 0.54594246 0.58137613 0.552383   0.54594246 0.54057535 0.49549163\n",
            " 0.45577501 0.38063547 0.41605839 0.45792185 0.41605839 0.31086303\n",
            " 0.27651353 0.29368828 0.32057583 0.32057583 0.32057583 0.32057583\n",
            " 0.32057583 0.32057583 0.32057583 0.32057583 0.32057583 0.32219627\n",
            " 0.32263643 0.32282361 0.32298848 0.32320306 0.32356131 0.32412839\n",
            " 0.32494193 0.326015   0.3273426  0.32890716 0.33068362 0.33264422\n",
            " 0.33476096 0.33700773 0.3393611  0.34180051 0.34430811 0.34686831\n",
            " 0.34946701 0.35209155 0.35473007 0.35737109 0.3600041  0.36261863\n",
            " 0.36520502 0.36775407 0.37025711 0.37270635]\n",
            "29 day output [[0.37509465]]\n",
            "[[0.32219627499580383], [0.3226364254951477], [0.3228236138820648], [0.32298848032951355], [0.32320305705070496], [0.32356131076812744], [0.3241283893585205], [0.3249419331550598], [0.32601499557495117], [0.32734259963035583], [0.32890716195106506], [0.3306836187839508], [0.3326442241668701], [0.33476096391677856], [0.3370077311992645], [0.3393611013889313], [0.3418005108833313], [0.34430810809135437], [0.3468683063983917], [0.349467009305954], [0.35209155082702637], [0.3547300696372986], [0.35737109184265137], [0.36000409722328186], [0.362618625164032], [0.3652050197124481], [0.3677540719509125], [0.37025710940361023], [0.3727063536643982], [0.3750946521759033]]\n"
          ]
        }
      ]
    },
    {
      "cell_type": "code",
      "source": [
        "day_new = np.arange(1 , 101)\n",
        "day_pred = np.arange(101 , 131)"
      ],
      "metadata": {
        "id": "MWItVJGJ7ebF"
      },
      "execution_count": null,
      "outputs": []
    },
    {
      "cell_type": "code",
      "source": [
        "import matplotlib.pyplot as plt"
      ],
      "metadata": {
        "id": "UGkwR_sR9hcx"
      },
      "execution_count": null,
      "outputs": []
    },
    {
      "cell_type": "code",
      "source": [
        "len(df1)"
      ],
      "metadata": {
        "colab": {
          "base_uri": "https://localhost:8080/"
        },
        "id": "tNbKWj9-9lXG",
        "outputId": "2187e604-4658-438d-ca38-76925c9c2761"
      },
      "execution_count": null,
      "outputs": [
        {
          "output_type": "execute_result",
          "data": {
            "text/plain": [
              "1237"
            ]
          },
          "metadata": {},
          "execution_count": 61
        }
      ]
    },
    {
      "cell_type": "code",
      "source": [
        "df3  = df1.tolist()\n",
        "df3.extend(lst_output)"
      ],
      "metadata": {
        "id": "1-4mAHF29mSX"
      },
      "execution_count": null,
      "outputs": []
    },
    {
      "cell_type": "code",
      "source": [
        "plt.plot(day_new , scaler.inverse_transform(df1[1137 : ]))\n",
        "plt.plot(day_pred , scaler.inverse_transform(lst_output))"
      ],
      "metadata": {
        "colab": {
          "base_uri": "https://localhost:8080/",
          "height": 282
        },
        "id": "u-R5znGc9rbl",
        "outputId": "a58a1a60-255d-4b21-cfe2-5ffbcec20f8c"
      },
      "execution_count": null,
      "outputs": [
        {
          "output_type": "execute_result",
          "data": {
            "text/plain": [
              "[<matplotlib.lines.Line2D at 0x7efbf446e040>]"
            ]
          },
          "metadata": {},
          "execution_count": 63
        },
        {
          "output_type": "display_data",
          "data": {
            "text/plain": [
              "<Figure size 432x288 with 1 Axes>"
            ],
            "image/png": "[encoded data removed]"
          },
          "metadata": {
            "needs_background": "light"
          }
        }
      ]
    },
    {
      "cell_type": "code",
      "source": [
        "df3 = df1.tolist()\n",
        "df3.extend(lst_output)\n",
        "plt.plot(df3[1220 :])"
      ],
      "metadata": {
        "colab": {
          "base_uri": "https://localhost:8080/",
          "height": 286
        },
        "id": "esacGj-E-a93",
        "outputId": "ea8d68ea-74ce-4564-a711-4bcb34a4bd56"
      },
      "execution_count": null,
      "outputs": [
        {
          "output_type": "execute_result",
          "data": {
            "text/plain": [
              "[<matplotlib.lines.Line2D at 0x7efbf4d94d90>]"
            ]
          },
          "metadata": {},
          "execution_count": 65
        },
        {
          "output_type": "display_data",
          "data": {
            "text/plain": [
              "<Figure size 432x288 with 1 Axes>"
            ],
            "image/png": "[encoded data removed]"
          },
          "metadata": {
            "needs_background": "light"
          }
        }
      ]
    },
    {
      "cell_type": "code",
      "source": [],
      "metadata": {
        "id": "deFW4_3K_7cc"
      },
      "execution_count": null,
      "outputs": []
    }
  ]
}